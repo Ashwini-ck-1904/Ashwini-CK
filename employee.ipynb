{
 "cells": [
  {
   "cell_type": "code",
   "execution_count": null,
   "metadata": {},
   "outputs": [],
   "source": [
    "import numpy as np \n",
    "import pandas as pd\n",
    "import matplotlib.pyplot as plt\n",
    "import seaborn as sns \n"
   ]
  },
  {
   "cell_type": "markdown",
   "metadata": {},
   "source": [
    "# 1. IMPORTING THE DATA"
   ]
  },
  {
   "cell_type": "code",
   "execution_count": null,
   "metadata": {},
   "outputs": [],
   "source": [
    "\n",
    "df = pd.read_csv(r'C:\\Users\\ashwi\\OneDrive\\Documents\\uncleaned excel.csv')\n"
   ]
  },
  {
   "cell_type": "code",
   "execution_count": null,
   "metadata": {},
   "outputs": [
    {
     "data": {
      "text/html": [
       "<div>\n",
       "<style scoped>\n",
       "    .dataframe tbody tr th:only-of-type {\n",
       "        vertical-align: middle;\n",
       "    }\n",
       "\n",
       "    .dataframe tbody tr th {\n",
       "        vertical-align: top;\n",
       "    }\n",
       "\n",
       "    .dataframe thead th {\n",
       "        text-align: right;\n",
       "    }\n",
       "</style>\n",
       "<table border=\"1\" class=\"dataframe\">\n",
       "  <thead>\n",
       "    <tr style=\"text-align: right;\">\n",
       "      <th></th>\n",
       "      <th>ID</th>\n",
       "      <th>Name</th>\n",
       "      <th>Age</th>\n",
       "      <th>Gender</th>\n",
       "      <th>Department</th>\n",
       "      <th>Salary</th>\n",
       "      <th>Joining Date</th>\n",
       "      <th>Performance Score</th>\n",
       "      <th>Experience</th>\n",
       "      <th>Status</th>\n",
       "      <th>...</th>\n",
       "      <th>Normalized Salary</th>\n",
       "      <th>Experience Level</th>\n",
       "      <th>Age Group</th>\n",
       "      <th>Salary Rank</th>\n",
       "      <th>Year Joined</th>\n",
       "      <th>Monthly Salary</th>\n",
       "      <th>Employee ID</th>\n",
       "      <th>Projects</th>\n",
       "      <th>Team Lead</th>\n",
       "      <th>Salary Increase %</th>\n",
       "    </tr>\n",
       "  </thead>\n",
       "  <tbody>\n",
       "    <tr>\n",
       "      <th>0</th>\n",
       "      <td>938</td>\n",
       "      <td>GARY MITCHELL</td>\n",
       "      <td>52</td>\n",
       "      <td>FEMALE</td>\n",
       "      <td>SALES</td>\n",
       "      <td>9963</td>\n",
       "      <td>9/22/2016</td>\n",
       "      <td>5.0</td>\n",
       "      <td>20</td>\n",
       "      <td>RETIRED</td>\n",
       "      <td>...</td>\n",
       "      <td>0.996240</td>\n",
       "      <td>SENIOR</td>\n",
       "      <td>MIDDLE-AGED</td>\n",
       "      <td>1</td>\n",
       "      <td>2016</td>\n",
       "      <td>830.250000</td>\n",
       "      <td>938</td>\n",
       "      <td>Project D</td>\n",
       "      <td>NaN</td>\n",
       "      <td>67.704359</td>\n",
       "    </tr>\n",
       "    <tr>\n",
       "      <th>1</th>\n",
       "      <td>909</td>\n",
       "      <td>SARA MARTINEZ</td>\n",
       "      <td>34</td>\n",
       "      <td>OTHER</td>\n",
       "      <td>HR</td>\n",
       "      <td>9951</td>\n",
       "      <td>2/18/2024</td>\n",
       "      <td>2.9</td>\n",
       "      <td>6</td>\n",
       "      <td>RETIRED</td>\n",
       "      <td>...</td>\n",
       "      <td>0.994736</td>\n",
       "      <td>MID</td>\n",
       "      <td>MIDDLE-AGED</td>\n",
       "      <td>2</td>\n",
       "      <td>2024</td>\n",
       "      <td>829.250000</td>\n",
       "      <td>909</td>\n",
       "      <td>Project C</td>\n",
       "      <td>Prajwal</td>\n",
       "      <td>66.140746</td>\n",
       "    </tr>\n",
       "    <tr>\n",
       "      <th>2</th>\n",
       "      <td>121</td>\n",
       "      <td>DAVID HAMPTON</td>\n",
       "      <td>39</td>\n",
       "      <td>FEMALE</td>\n",
       "      <td>HR</td>\n",
       "      <td>9941</td>\n",
       "      <td>07-06-2024</td>\n",
       "      <td>3.0</td>\n",
       "      <td>15</td>\n",
       "      <td>RETIRED</td>\n",
       "      <td>...</td>\n",
       "      <td>0.993482</td>\n",
       "      <td>SENIOR</td>\n",
       "      <td>MIDDLE-AGED</td>\n",
       "      <td>3</td>\n",
       "      <td>2024</td>\n",
       "      <td>828.416667</td>\n",
       "      <td>121</td>\n",
       "      <td>Project D</td>\n",
       "      <td>Prajwal</td>\n",
       "      <td>65.973787</td>\n",
       "    </tr>\n",
       "    <tr>\n",
       "      <th>3</th>\n",
       "      <td>290</td>\n",
       "      <td>SARA STOKES</td>\n",
       "      <td>30</td>\n",
       "      <td>FEMALE</td>\n",
       "      <td>IT</td>\n",
       "      <td>9921</td>\n",
       "      <td>10-01-2018</td>\n",
       "      <td>3.0</td>\n",
       "      <td>2</td>\n",
       "      <td>RETIRED</td>\n",
       "      <td>...</td>\n",
       "      <td>0.990975</td>\n",
       "      <td>JUNIOR</td>\n",
       "      <td>MIDDLE-AGED</td>\n",
       "      <td>2</td>\n",
       "      <td>2018</td>\n",
       "      <td>826.750000</td>\n",
       "      <td>290</td>\n",
       "      <td>Project C</td>\n",
       "      <td>Ayush</td>\n",
       "      <td>70.622416</td>\n",
       "    </tr>\n",
       "    <tr>\n",
       "      <th>4</th>\n",
       "      <td>595</td>\n",
       "      <td>MICHELLE SMITH</td>\n",
       "      <td>35</td>\n",
       "      <td>OTHER</td>\n",
       "      <td>SALES</td>\n",
       "      <td>9906</td>\n",
       "      <td>12/18/2018</td>\n",
       "      <td>2.9</td>\n",
       "      <td>9</td>\n",
       "      <td>ACTIVE</td>\n",
       "      <td>...</td>\n",
       "      <td>0.989095</td>\n",
       "      <td>SENIOR</td>\n",
       "      <td>MIDDLE-AGED</td>\n",
       "      <td>5</td>\n",
       "      <td>2018</td>\n",
       "      <td>825.500000</td>\n",
       "      <td>595</td>\n",
       "      <td>Project C</td>\n",
       "      <td>NaN</td>\n",
       "      <td>66.744894</td>\n",
       "    </tr>\n",
       "    <tr>\n",
       "      <th>...</th>\n",
       "      <td>...</td>\n",
       "      <td>...</td>\n",
       "      <td>...</td>\n",
       "      <td>...</td>\n",
       "      <td>...</td>\n",
       "      <td>...</td>\n",
       "      <td>...</td>\n",
       "      <td>...</td>\n",
       "      <td>...</td>\n",
       "      <td>...</td>\n",
       "      <td>...</td>\n",
       "      <td>...</td>\n",
       "      <td>...</td>\n",
       "      <td>...</td>\n",
       "      <td>...</td>\n",
       "      <td>...</td>\n",
       "      <td>...</td>\n",
       "      <td>...</td>\n",
       "      <td>...</td>\n",
       "      <td>...</td>\n",
       "      <td>...</td>\n",
       "    </tr>\n",
       "    <tr>\n",
       "      <th>412</th>\n",
       "      <td>842</td>\n",
       "      <td>TAMMY SMITH</td>\n",
       "      <td>30</td>\n",
       "      <td>FEMALE</td>\n",
       "      <td>SALES</td>\n",
       "      <td>2087</td>\n",
       "      <td>01-09-2015</td>\n",
       "      <td>5.0</td>\n",
       "      <td>6</td>\n",
       "      <td>RETIRED</td>\n",
       "      <td>...</td>\n",
       "      <td>0.009025</td>\n",
       "      <td>MID</td>\n",
       "      <td>MIDDLE-AGED</td>\n",
       "      <td>221</td>\n",
       "      <td>2015</td>\n",
       "      <td>173.916667</td>\n",
       "      <td>842</td>\n",
       "      <td>Project C</td>\n",
       "      <td>NaN</td>\n",
       "      <td>-64.870120</td>\n",
       "    </tr>\n",
       "    <tr>\n",
       "      <th>413</th>\n",
       "      <td>788</td>\n",
       "      <td>DAVID WILLIAMS</td>\n",
       "      <td>33</td>\n",
       "      <td>FEMALE</td>\n",
       "      <td>SALES</td>\n",
       "      <td>2078</td>\n",
       "      <td>9/22/2021</td>\n",
       "      <td>3.0</td>\n",
       "      <td>15</td>\n",
       "      <td>RETIRED</td>\n",
       "      <td>...</td>\n",
       "      <td>0.007897</td>\n",
       "      <td>SENIOR</td>\n",
       "      <td>MIDDLE-AGED</td>\n",
       "      <td>222</td>\n",
       "      <td>2021</td>\n",
       "      <td>173.166667</td>\n",
       "      <td>788</td>\n",
       "      <td>Project A</td>\n",
       "      <td>NaN</td>\n",
       "      <td>-65.021614</td>\n",
       "    </tr>\n",
       "    <tr>\n",
       "      <th>414</th>\n",
       "      <td>570</td>\n",
       "      <td>PAUL SMITH</td>\n",
       "      <td>35</td>\n",
       "      <td>OTHER</td>\n",
       "      <td>IT</td>\n",
       "      <td>2042</td>\n",
       "      <td>12/22/2016</td>\n",
       "      <td>2.9</td>\n",
       "      <td>4</td>\n",
       "      <td>ACTIVE</td>\n",
       "      <td>...</td>\n",
       "      <td>0.003384</td>\n",
       "      <td>MID</td>\n",
       "      <td>MIDDLE-AGED</td>\n",
       "      <td>226</td>\n",
       "      <td>2016</td>\n",
       "      <td>170.166667</td>\n",
       "      <td>570</td>\n",
       "      <td>Project D</td>\n",
       "      <td>Ayush</td>\n",
       "      <td>-64.881466</td>\n",
       "    </tr>\n",
       "    <tr>\n",
       "      <th>415</th>\n",
       "      <td>883</td>\n",
       "      <td>JACLYN COLLINS</td>\n",
       "      <td>47</td>\n",
       "      <td>MALE</td>\n",
       "      <td>IT</td>\n",
       "      <td>2029</td>\n",
       "      <td>12-05-2019</td>\n",
       "      <td>2.9</td>\n",
       "      <td>17</td>\n",
       "      <td>ACTIVE</td>\n",
       "      <td>...</td>\n",
       "      <td>0.001755</td>\n",
       "      <td>SENIOR</td>\n",
       "      <td>MIDDLE-AGED</td>\n",
       "      <td>227</td>\n",
       "      <td>2019</td>\n",
       "      <td>169.083333</td>\n",
       "      <td>883</td>\n",
       "      <td>Project D</td>\n",
       "      <td>Ayush</td>\n",
       "      <td>-65.105042</td>\n",
       "    </tr>\n",
       "    <tr>\n",
       "      <th>416</th>\n",
       "      <td>474</td>\n",
       "      <td>DAVID POTTER</td>\n",
       "      <td>56</td>\n",
       "      <td>MALE</td>\n",
       "      <td>IT</td>\n",
       "      <td>2016</td>\n",
       "      <td>7/13/2020</td>\n",
       "      <td>2.9</td>\n",
       "      <td>18</td>\n",
       "      <td>ACTIVE</td>\n",
       "      <td>...</td>\n",
       "      <td>0.000125</td>\n",
       "      <td>SENIOR</td>\n",
       "      <td>MIDDLE-AGED</td>\n",
       "      <td>228</td>\n",
       "      <td>2020</td>\n",
       "      <td>168.000000</td>\n",
       "      <td>474</td>\n",
       "      <td>Project C</td>\n",
       "      <td>Ayush</td>\n",
       "      <td>-65.328617</td>\n",
       "    </tr>\n",
       "  </tbody>\n",
       "</table>\n",
       "<p>417 rows × 22 columns</p>\n",
       "</div>"
      ],
      "text/plain": [
       "      ID            Name  Age  Gender Department  Salary Joining Date  \\\n",
       "0    938   GARY MITCHELL   52  FEMALE      SALES    9963    9/22/2016   \n",
       "1    909   SARA MARTINEZ   34   OTHER         HR    9951    2/18/2024   \n",
       "2    121   DAVID HAMPTON   39  FEMALE         HR    9941   07-06-2024   \n",
       "3    290     SARA STOKES   30  FEMALE         IT    9921   10-01-2018   \n",
       "4    595  MICHELLE SMITH   35   OTHER      SALES    9906   12/18/2018   \n",
       "..   ...             ...  ...     ...        ...     ...          ...   \n",
       "412  842     TAMMY SMITH   30  FEMALE      SALES    2087   01-09-2015   \n",
       "413  788  DAVID WILLIAMS   33  FEMALE      SALES    2078    9/22/2021   \n",
       "414  570      PAUL SMITH   35   OTHER         IT    2042   12/22/2016   \n",
       "415  883  JACLYN COLLINS   47    MALE         IT    2029   12-05-2019   \n",
       "416  474    DAVID POTTER   56    MALE         IT    2016    7/13/2020   \n",
       "\n",
       "     Performance Score  Experience   Status  ... Normalized Salary  \\\n",
       "0                  5.0          20  RETIRED  ...          0.996240   \n",
       "1                  2.9           6  RETIRED  ...          0.994736   \n",
       "2                  3.0          15  RETIRED  ...          0.993482   \n",
       "3                  3.0           2  RETIRED  ...          0.990975   \n",
       "4                  2.9           9   ACTIVE  ...          0.989095   \n",
       "..                 ...         ...      ...  ...               ...   \n",
       "412                5.0           6  RETIRED  ...          0.009025   \n",
       "413                3.0          15  RETIRED  ...          0.007897   \n",
       "414                2.9           4   ACTIVE  ...          0.003384   \n",
       "415                2.9          17   ACTIVE  ...          0.001755   \n",
       "416                2.9          18   ACTIVE  ...          0.000125   \n",
       "\n",
       "     Experience Level    Age Group Salary Rank Year Joined  Monthly Salary  \\\n",
       "0              SENIOR  MIDDLE-AGED           1        2016      830.250000   \n",
       "1                 MID  MIDDLE-AGED           2        2024      829.250000   \n",
       "2              SENIOR  MIDDLE-AGED           3        2024      828.416667   \n",
       "3              JUNIOR  MIDDLE-AGED           2        2018      826.750000   \n",
       "4              SENIOR  MIDDLE-AGED           5        2018      825.500000   \n",
       "..                ...          ...         ...         ...             ...   \n",
       "412               MID  MIDDLE-AGED         221        2015      173.916667   \n",
       "413            SENIOR  MIDDLE-AGED         222        2021      173.166667   \n",
       "414               MID  MIDDLE-AGED         226        2016      170.166667   \n",
       "415            SENIOR  MIDDLE-AGED         227        2019      169.083333   \n",
       "416            SENIOR  MIDDLE-AGED         228        2020      168.000000   \n",
       "\n",
       "     Employee ID   Projects  Team Lead Salary Increase %  \n",
       "0            938  Project D        NaN         67.704359  \n",
       "1            909  Project C    Prajwal         66.140746  \n",
       "2            121  Project D    Prajwal         65.973787  \n",
       "3            290  Project C      Ayush         70.622416  \n",
       "4            595  Project C        NaN         66.744894  \n",
       "..           ...        ...        ...               ...  \n",
       "412          842  Project C        NaN        -64.870120  \n",
       "413          788  Project A        NaN        -65.021614  \n",
       "414          570  Project D      Ayush        -64.881466  \n",
       "415          883  Project D      Ayush        -65.105042  \n",
       "416          474  Project C      Ayush        -65.328617  \n",
       "\n",
       "[417 rows x 22 columns]"
      ]
     },
     "execution_count": 3,
     "metadata": {},
     "output_type": "execute_result"
    }
   ],
   "source": [
    "df"
   ]
  },
  {
   "cell_type": "markdown",
   "metadata": {},
   "source": [
    "# 2. DATA CLEANING"
   ]
  },
  {
   "cell_type": "code",
   "execution_count": null,
   "metadata": {},
   "outputs": [
    {
     "name": "stdout",
     "output_type": "stream",
     "text": [
      "<class 'pandas.core.frame.DataFrame'>\n",
      "RangeIndex: 417 entries, 0 to 416\n",
      "Data columns (total 22 columns):\n",
      " #   Column             Non-Null Count  Dtype  \n",
      "---  ------             --------------  -----  \n",
      " 0   ID                 417 non-null    int64  \n",
      " 1   Name               417 non-null    object \n",
      " 2   Age                417 non-null    int64  \n",
      " 3   Gender             417 non-null    object \n",
      " 4   Department         417 non-null    object \n",
      " 5   Salary             417 non-null    int64  \n",
      " 6   Joining Date       417 non-null    object \n",
      " 7   Performance Score  417 non-null    float64\n",
      " 8   Experience         417 non-null    int64  \n",
      " 9   Status             417 non-null    object \n",
      " 10  Location           417 non-null    object \n",
      " 11  Bonus              417 non-null    float64\n",
      " 12  Normalized Salary  417 non-null    float64\n",
      " 13  Experience Level   417 non-null    object \n",
      " 14  Age Group          417 non-null    object \n",
      " 15  Salary Rank        417 non-null    int64  \n",
      " 16  Year Joined        417 non-null    int64  \n",
      " 17  Monthly Salary     417 non-null    float64\n",
      " 18  Employee ID        417 non-null    int64  \n",
      " 19  Projects           417 non-null    object \n",
      " 20  Team Lead          279 non-null    object \n",
      " 21  Salary Increase %  417 non-null    float64\n",
      "dtypes: float64(5), int64(7), object(10)\n",
      "memory usage: 71.8+ KB\n"
     ]
    }
   ],
   "source": [
    "df.info()"
   ]
  },
  {
   "cell_type": "markdown",
   "metadata": {},
   "source": [
    "every col are not having any null values except Team Lead , since the col is obj data type , fill this col by mode"
   ]
  },
  {
   "cell_type": "code",
   "execution_count": null,
   "metadata": {},
   "outputs": [
    {
     "data": {
      "text/plain": [
       "0        Ayush\n",
       "1      Prajwal\n",
       "2      Prajwal\n",
       "3        Ayush\n",
       "4        Ayush\n",
       "        ...   \n",
       "412      Ayush\n",
       "413      Ayush\n",
       "414      Ayush\n",
       "415      Ayush\n",
       "416      Ayush\n",
       "Name: Team Lead, Length: 417, dtype: object"
      ]
     },
     "execution_count": 5,
     "metadata": {},
     "output_type": "execute_result"
    }
   ],
   "source": [
    "a = df['Team Lead'].mode()[0]\n",
    "df['Team Lead'] = df['Team Lead'].fillna(a)\n",
    "df['Team Lead']\n"
   ]
  },
  {
   "cell_type": "markdown",
   "metadata": {},
   "source": [
    "# 3. DATA MANIPULATION"
   ]
  },
  {
   "cell_type": "code",
   "execution_count": null,
   "metadata": {},
   "outputs": [
    {
     "data": {
      "text/html": [
       "<div>\n",
       "<style scoped>\n",
       "    .dataframe tbody tr th:only-of-type {\n",
       "        vertical-align: middle;\n",
       "    }\n",
       "\n",
       "    .dataframe tbody tr th {\n",
       "        vertical-align: top;\n",
       "    }\n",
       "\n",
       "    .dataframe thead th {\n",
       "        text-align: right;\n",
       "    }\n",
       "</style>\n",
       "<table border=\"1\" class=\"dataframe\">\n",
       "  <thead>\n",
       "    <tr style=\"text-align: right;\">\n",
       "      <th></th>\n",
       "      <th>ID</th>\n",
       "      <th>Name</th>\n",
       "      <th>Age</th>\n",
       "      <th>Gender</th>\n",
       "      <th>Department</th>\n",
       "      <th>Salary</th>\n",
       "      <th>Joining Date</th>\n",
       "      <th>Performance Score</th>\n",
       "      <th>Experience</th>\n",
       "      <th>Status</th>\n",
       "      <th>...</th>\n",
       "      <th>Normalized Salary</th>\n",
       "      <th>Experience Level</th>\n",
       "      <th>Age Group</th>\n",
       "      <th>Salary Rank</th>\n",
       "      <th>Year Joined</th>\n",
       "      <th>Monthly Salary</th>\n",
       "      <th>Employee ID</th>\n",
       "      <th>Projects</th>\n",
       "      <th>Team Lead</th>\n",
       "      <th>Salary Increase %</th>\n",
       "    </tr>\n",
       "  </thead>\n",
       "  <tbody>\n",
       "    <tr>\n",
       "      <th>0</th>\n",
       "      <td>938</td>\n",
       "      <td>GARY MITCHELL</td>\n",
       "      <td>52</td>\n",
       "      <td>FEMALE</td>\n",
       "      <td>SALES</td>\n",
       "      <td>9963</td>\n",
       "      <td>9/22/2016</td>\n",
       "      <td>5.0</td>\n",
       "      <td>20</td>\n",
       "      <td>RETIRED</td>\n",
       "      <td>...</td>\n",
       "      <td>0.996240</td>\n",
       "      <td>SENIOR</td>\n",
       "      <td>MIDDLE-AGED</td>\n",
       "      <td>1</td>\n",
       "      <td>2016</td>\n",
       "      <td>830.250000</td>\n",
       "      <td>938</td>\n",
       "      <td>Project D</td>\n",
       "      <td>Ayush</td>\n",
       "      <td>67.704359</td>\n",
       "    </tr>\n",
       "    <tr>\n",
       "      <th>1</th>\n",
       "      <td>909</td>\n",
       "      <td>SARA MARTINEZ</td>\n",
       "      <td>34</td>\n",
       "      <td>OTHER</td>\n",
       "      <td>HR</td>\n",
       "      <td>9951</td>\n",
       "      <td>2/18/2024</td>\n",
       "      <td>2.9</td>\n",
       "      <td>6</td>\n",
       "      <td>RETIRED</td>\n",
       "      <td>...</td>\n",
       "      <td>0.994736</td>\n",
       "      <td>MID</td>\n",
       "      <td>MIDDLE-AGED</td>\n",
       "      <td>2</td>\n",
       "      <td>2024</td>\n",
       "      <td>829.250000</td>\n",
       "      <td>909</td>\n",
       "      <td>Project C</td>\n",
       "      <td>Prajwal</td>\n",
       "      <td>66.140746</td>\n",
       "    </tr>\n",
       "    <tr>\n",
       "      <th>2</th>\n",
       "      <td>121</td>\n",
       "      <td>DAVID HAMPTON</td>\n",
       "      <td>39</td>\n",
       "      <td>FEMALE</td>\n",
       "      <td>HR</td>\n",
       "      <td>9941</td>\n",
       "      <td>07-06-2024</td>\n",
       "      <td>3.0</td>\n",
       "      <td>15</td>\n",
       "      <td>RETIRED</td>\n",
       "      <td>...</td>\n",
       "      <td>0.993482</td>\n",
       "      <td>SENIOR</td>\n",
       "      <td>MIDDLE-AGED</td>\n",
       "      <td>3</td>\n",
       "      <td>2024</td>\n",
       "      <td>828.416667</td>\n",
       "      <td>121</td>\n",
       "      <td>Project D</td>\n",
       "      <td>Prajwal</td>\n",
       "      <td>65.973787</td>\n",
       "    </tr>\n",
       "    <tr>\n",
       "      <th>3</th>\n",
       "      <td>290</td>\n",
       "      <td>SARA STOKES</td>\n",
       "      <td>30</td>\n",
       "      <td>FEMALE</td>\n",
       "      <td>IT</td>\n",
       "      <td>9921</td>\n",
       "      <td>10-01-2018</td>\n",
       "      <td>3.0</td>\n",
       "      <td>2</td>\n",
       "      <td>RETIRED</td>\n",
       "      <td>...</td>\n",
       "      <td>0.990975</td>\n",
       "      <td>JUNIOR</td>\n",
       "      <td>MIDDLE-AGED</td>\n",
       "      <td>2</td>\n",
       "      <td>2018</td>\n",
       "      <td>826.750000</td>\n",
       "      <td>290</td>\n",
       "      <td>Project C</td>\n",
       "      <td>Ayush</td>\n",
       "      <td>70.622416</td>\n",
       "    </tr>\n",
       "    <tr>\n",
       "      <th>4</th>\n",
       "      <td>595</td>\n",
       "      <td>MICHELLE SMITH</td>\n",
       "      <td>35</td>\n",
       "      <td>OTHER</td>\n",
       "      <td>SALES</td>\n",
       "      <td>9906</td>\n",
       "      <td>12/18/2018</td>\n",
       "      <td>2.9</td>\n",
       "      <td>9</td>\n",
       "      <td>ACTIVE</td>\n",
       "      <td>...</td>\n",
       "      <td>0.989095</td>\n",
       "      <td>SENIOR</td>\n",
       "      <td>MIDDLE-AGED</td>\n",
       "      <td>5</td>\n",
       "      <td>2018</td>\n",
       "      <td>825.500000</td>\n",
       "      <td>595</td>\n",
       "      <td>Project C</td>\n",
       "      <td>Ayush</td>\n",
       "      <td>66.744894</td>\n",
       "    </tr>\n",
       "    <tr>\n",
       "      <th>...</th>\n",
       "      <td>...</td>\n",
       "      <td>...</td>\n",
       "      <td>...</td>\n",
       "      <td>...</td>\n",
       "      <td>...</td>\n",
       "      <td>...</td>\n",
       "      <td>...</td>\n",
       "      <td>...</td>\n",
       "      <td>...</td>\n",
       "      <td>...</td>\n",
       "      <td>...</td>\n",
       "      <td>...</td>\n",
       "      <td>...</td>\n",
       "      <td>...</td>\n",
       "      <td>...</td>\n",
       "      <td>...</td>\n",
       "      <td>...</td>\n",
       "      <td>...</td>\n",
       "      <td>...</td>\n",
       "      <td>...</td>\n",
       "      <td>...</td>\n",
       "    </tr>\n",
       "    <tr>\n",
       "      <th>412</th>\n",
       "      <td>842</td>\n",
       "      <td>TAMMY SMITH</td>\n",
       "      <td>30</td>\n",
       "      <td>FEMALE</td>\n",
       "      <td>SALES</td>\n",
       "      <td>2087</td>\n",
       "      <td>01-09-2015</td>\n",
       "      <td>5.0</td>\n",
       "      <td>6</td>\n",
       "      <td>RETIRED</td>\n",
       "      <td>...</td>\n",
       "      <td>0.009025</td>\n",
       "      <td>MID</td>\n",
       "      <td>MIDDLE-AGED</td>\n",
       "      <td>221</td>\n",
       "      <td>2015</td>\n",
       "      <td>173.916667</td>\n",
       "      <td>842</td>\n",
       "      <td>Project C</td>\n",
       "      <td>Ayush</td>\n",
       "      <td>-64.870120</td>\n",
       "    </tr>\n",
       "    <tr>\n",
       "      <th>413</th>\n",
       "      <td>788</td>\n",
       "      <td>DAVID WILLIAMS</td>\n",
       "      <td>33</td>\n",
       "      <td>FEMALE</td>\n",
       "      <td>SALES</td>\n",
       "      <td>2078</td>\n",
       "      <td>9/22/2021</td>\n",
       "      <td>3.0</td>\n",
       "      <td>15</td>\n",
       "      <td>RETIRED</td>\n",
       "      <td>...</td>\n",
       "      <td>0.007897</td>\n",
       "      <td>SENIOR</td>\n",
       "      <td>MIDDLE-AGED</td>\n",
       "      <td>222</td>\n",
       "      <td>2021</td>\n",
       "      <td>173.166667</td>\n",
       "      <td>788</td>\n",
       "      <td>Project A</td>\n",
       "      <td>Ayush</td>\n",
       "      <td>-65.021614</td>\n",
       "    </tr>\n",
       "    <tr>\n",
       "      <th>414</th>\n",
       "      <td>570</td>\n",
       "      <td>PAUL SMITH</td>\n",
       "      <td>35</td>\n",
       "      <td>OTHER</td>\n",
       "      <td>IT</td>\n",
       "      <td>2042</td>\n",
       "      <td>12/22/2016</td>\n",
       "      <td>2.9</td>\n",
       "      <td>4</td>\n",
       "      <td>ACTIVE</td>\n",
       "      <td>...</td>\n",
       "      <td>0.003384</td>\n",
       "      <td>MID</td>\n",
       "      <td>MIDDLE-AGED</td>\n",
       "      <td>226</td>\n",
       "      <td>2016</td>\n",
       "      <td>170.166667</td>\n",
       "      <td>570</td>\n",
       "      <td>Project D</td>\n",
       "      <td>Ayush</td>\n",
       "      <td>-64.881466</td>\n",
       "    </tr>\n",
       "    <tr>\n",
       "      <th>415</th>\n",
       "      <td>883</td>\n",
       "      <td>JACLYN COLLINS</td>\n",
       "      <td>47</td>\n",
       "      <td>MALE</td>\n",
       "      <td>IT</td>\n",
       "      <td>2029</td>\n",
       "      <td>12-05-2019</td>\n",
       "      <td>2.9</td>\n",
       "      <td>17</td>\n",
       "      <td>ACTIVE</td>\n",
       "      <td>...</td>\n",
       "      <td>0.001755</td>\n",
       "      <td>SENIOR</td>\n",
       "      <td>MIDDLE-AGED</td>\n",
       "      <td>227</td>\n",
       "      <td>2019</td>\n",
       "      <td>169.083333</td>\n",
       "      <td>883</td>\n",
       "      <td>Project D</td>\n",
       "      <td>Ayush</td>\n",
       "      <td>-65.105042</td>\n",
       "    </tr>\n",
       "    <tr>\n",
       "      <th>416</th>\n",
       "      <td>474</td>\n",
       "      <td>DAVID POTTER</td>\n",
       "      <td>56</td>\n",
       "      <td>MALE</td>\n",
       "      <td>IT</td>\n",
       "      <td>2016</td>\n",
       "      <td>7/13/2020</td>\n",
       "      <td>2.9</td>\n",
       "      <td>18</td>\n",
       "      <td>ACTIVE</td>\n",
       "      <td>...</td>\n",
       "      <td>0.000125</td>\n",
       "      <td>SENIOR</td>\n",
       "      <td>MIDDLE-AGED</td>\n",
       "      <td>228</td>\n",
       "      <td>2020</td>\n",
       "      <td>168.000000</td>\n",
       "      <td>474</td>\n",
       "      <td>Project C</td>\n",
       "      <td>Ayush</td>\n",
       "      <td>-65.328617</td>\n",
       "    </tr>\n",
       "  </tbody>\n",
       "</table>\n",
       "<p>417 rows × 22 columns</p>\n",
       "</div>"
      ],
      "text/plain": [
       "      ID            Name  Age  Gender Department  Salary Joining Date  \\\n",
       "0    938   GARY MITCHELL   52  FEMALE      SALES    9963    9/22/2016   \n",
       "1    909   SARA MARTINEZ   34   OTHER         HR    9951    2/18/2024   \n",
       "2    121   DAVID HAMPTON   39  FEMALE         HR    9941   07-06-2024   \n",
       "3    290     SARA STOKES   30  FEMALE         IT    9921   10-01-2018   \n",
       "4    595  MICHELLE SMITH   35   OTHER      SALES    9906   12/18/2018   \n",
       "..   ...             ...  ...     ...        ...     ...          ...   \n",
       "412  842     TAMMY SMITH   30  FEMALE      SALES    2087   01-09-2015   \n",
       "413  788  DAVID WILLIAMS   33  FEMALE      SALES    2078    9/22/2021   \n",
       "414  570      PAUL SMITH   35   OTHER         IT    2042   12/22/2016   \n",
       "415  883  JACLYN COLLINS   47    MALE         IT    2029   12-05-2019   \n",
       "416  474    DAVID POTTER   56    MALE         IT    2016    7/13/2020   \n",
       "\n",
       "     Performance Score  Experience   Status  ... Normalized Salary  \\\n",
       "0                  5.0          20  RETIRED  ...          0.996240   \n",
       "1                  2.9           6  RETIRED  ...          0.994736   \n",
       "2                  3.0          15  RETIRED  ...          0.993482   \n",
       "3                  3.0           2  RETIRED  ...          0.990975   \n",
       "4                  2.9           9   ACTIVE  ...          0.989095   \n",
       "..                 ...         ...      ...  ...               ...   \n",
       "412                5.0           6  RETIRED  ...          0.009025   \n",
       "413                3.0          15  RETIRED  ...          0.007897   \n",
       "414                2.9           4   ACTIVE  ...          0.003384   \n",
       "415                2.9          17   ACTIVE  ...          0.001755   \n",
       "416                2.9          18   ACTIVE  ...          0.000125   \n",
       "\n",
       "     Experience Level    Age Group Salary Rank Year Joined  Monthly Salary  \\\n",
       "0              SENIOR  MIDDLE-AGED           1        2016      830.250000   \n",
       "1                 MID  MIDDLE-AGED           2        2024      829.250000   \n",
       "2              SENIOR  MIDDLE-AGED           3        2024      828.416667   \n",
       "3              JUNIOR  MIDDLE-AGED           2        2018      826.750000   \n",
       "4              SENIOR  MIDDLE-AGED           5        2018      825.500000   \n",
       "..                ...          ...         ...         ...             ...   \n",
       "412               MID  MIDDLE-AGED         221        2015      173.916667   \n",
       "413            SENIOR  MIDDLE-AGED         222        2021      173.166667   \n",
       "414               MID  MIDDLE-AGED         226        2016      170.166667   \n",
       "415            SENIOR  MIDDLE-AGED         227        2019      169.083333   \n",
       "416            SENIOR  MIDDLE-AGED         228        2020      168.000000   \n",
       "\n",
       "     Employee ID   Projects  Team Lead Salary Increase %  \n",
       "0            938  Project D      Ayush         67.704359  \n",
       "1            909  Project C    Prajwal         66.140746  \n",
       "2            121  Project D    Prajwal         65.973787  \n",
       "3            290  Project C      Ayush         70.622416  \n",
       "4            595  Project C      Ayush         66.744894  \n",
       "..           ...        ...        ...               ...  \n",
       "412          842  Project C      Ayush        -64.870120  \n",
       "413          788  Project A      Ayush        -65.021614  \n",
       "414          570  Project D      Ayush        -64.881466  \n",
       "415          883  Project D      Ayush        -65.105042  \n",
       "416          474  Project C      Ayush        -65.328617  \n",
       "\n",
       "[417 rows x 22 columns]"
      ]
     },
     "execution_count": 6,
     "metadata": {},
     "output_type": "execute_result"
    }
   ],
   "source": [
    "df"
   ]
  },
  {
   "cell_type": "markdown",
   "metadata": {},
   "source": [
    "the joining date col is not holding the one correct format"
   ]
  },
  {
   "cell_type": "code",
   "execution_count": null,
   "metadata": {},
   "outputs": [
    {
     "name": "stdout",
     "output_type": "stream",
     "text": [
      "0\n",
      "Joining Date\n",
      "<class 'str'>    417\n",
      "Name: count, dtype: int64\n"
     ]
    }
   ],
   "source": [
    "# Check for None values\n",
    "print(df['Joining Date'].isnull().sum())\n",
    "\n",
    "# Check for unique data types in the column\n",
    "print(df['Joining Date'].apply(type).value_counts())\n",
    "\n",
    "# Fill NaN values with an empty string (if needed):\n",
    "df['Joining Date'] = df['Joining Date'].fillna('')\n",
    "# Ensure all values are strings:\n",
    "df['Joining Date'] = df['Joining Date'].astype(str)\n",
    "#Replace slashes with hyphens:\n",
    "df['Joining Date'] = df['Joining Date'].str.replace('/', '-', regex=True)\n",
    "\n",
    "# convert to date and time\n",
    "df['Joining Date'] = pd.to_datetime(df['Joining Date'], errors='coerce')\n"
   ]
  },
  {
   "cell_type": "code",
   "execution_count": null,
   "metadata": {},
   "outputs": [
    {
     "name": "stdout",
     "output_type": "stream",
     "text": [
      "Gender\n",
      "FEMALE    291\n",
      "MALE      126\n",
      "Name: count, dtype: int64\n"
     ]
    }
   ],
   "source": [
    "# Find the mode of the 'Gender' column (excluding 'Other')\n",
    "mode_gender = df['Gender'][df['Gender']!='OTHER'].mode()[0]\n",
    "# Replace 'Other' with the mode\n",
    "df['Gender'] = df['Gender'].replace('OTHER', mode_gender)\n",
    "# Confirm replacement\n",
    "print(df['Gender'].value_counts())\n"
   ]
  },
  {
   "cell_type": "code",
   "execution_count": null,
   "metadata": {},
   "outputs": [
    {
     "data": {
      "text/html": [
       "<div>\n",
       "<style scoped>\n",
       "    .dataframe tbody tr th:only-of-type {\n",
       "        vertical-align: middle;\n",
       "    }\n",
       "\n",
       "    .dataframe tbody tr th {\n",
       "        vertical-align: top;\n",
       "    }\n",
       "\n",
       "    .dataframe thead th {\n",
       "        text-align: right;\n",
       "    }\n",
       "</style>\n",
       "<table border=\"1\" class=\"dataframe\">\n",
       "  <thead>\n",
       "    <tr style=\"text-align: right;\">\n",
       "      <th></th>\n",
       "      <th>ID</th>\n",
       "      <th>Name</th>\n",
       "      <th>Age</th>\n",
       "      <th>Gender</th>\n",
       "      <th>Department</th>\n",
       "      <th>Salary</th>\n",
       "      <th>Joining Date</th>\n",
       "      <th>Performance Score</th>\n",
       "      <th>Experience</th>\n",
       "      <th>Status</th>\n",
       "      <th>...</th>\n",
       "      <th>Normalized Salary</th>\n",
       "      <th>Experience Level</th>\n",
       "      <th>Age Group</th>\n",
       "      <th>Salary Rank</th>\n",
       "      <th>Year Joined</th>\n",
       "      <th>Monthly Salary</th>\n",
       "      <th>Employee ID</th>\n",
       "      <th>Projects</th>\n",
       "      <th>Team Lead</th>\n",
       "      <th>Salary Increase %</th>\n",
       "    </tr>\n",
       "  </thead>\n",
       "  <tbody>\n",
       "    <tr>\n",
       "      <th>0</th>\n",
       "      <td>938</td>\n",
       "      <td>GARY MITCHELL</td>\n",
       "      <td>52</td>\n",
       "      <td>FEMALE</td>\n",
       "      <td>SALES</td>\n",
       "      <td>9963</td>\n",
       "      <td>2016-09-22</td>\n",
       "      <td>5.0</td>\n",
       "      <td>20</td>\n",
       "      <td>RETIRED</td>\n",
       "      <td>...</td>\n",
       "      <td>0.996240</td>\n",
       "      <td>SENIOR</td>\n",
       "      <td>MIDDLE-AGED</td>\n",
       "      <td>1</td>\n",
       "      <td>2016</td>\n",
       "      <td>830.250000</td>\n",
       "      <td>938</td>\n",
       "      <td>Project D</td>\n",
       "      <td>Ayush</td>\n",
       "      <td>67.704359</td>\n",
       "    </tr>\n",
       "    <tr>\n",
       "      <th>1</th>\n",
       "      <td>909</td>\n",
       "      <td>SARA MARTINEZ</td>\n",
       "      <td>34</td>\n",
       "      <td>FEMALE</td>\n",
       "      <td>HR</td>\n",
       "      <td>9951</td>\n",
       "      <td>2024-02-18</td>\n",
       "      <td>2.9</td>\n",
       "      <td>6</td>\n",
       "      <td>RETIRED</td>\n",
       "      <td>...</td>\n",
       "      <td>0.994736</td>\n",
       "      <td>MID</td>\n",
       "      <td>MIDDLE-AGED</td>\n",
       "      <td>2</td>\n",
       "      <td>2024</td>\n",
       "      <td>829.250000</td>\n",
       "      <td>909</td>\n",
       "      <td>Project C</td>\n",
       "      <td>Prajwal</td>\n",
       "      <td>66.140746</td>\n",
       "    </tr>\n",
       "    <tr>\n",
       "      <th>2</th>\n",
       "      <td>121</td>\n",
       "      <td>DAVID HAMPTON</td>\n",
       "      <td>39</td>\n",
       "      <td>FEMALE</td>\n",
       "      <td>HR</td>\n",
       "      <td>9941</td>\n",
       "      <td>2024-07-06</td>\n",
       "      <td>3.0</td>\n",
       "      <td>15</td>\n",
       "      <td>RETIRED</td>\n",
       "      <td>...</td>\n",
       "      <td>0.993482</td>\n",
       "      <td>SENIOR</td>\n",
       "      <td>MIDDLE-AGED</td>\n",
       "      <td>3</td>\n",
       "      <td>2024</td>\n",
       "      <td>828.416667</td>\n",
       "      <td>121</td>\n",
       "      <td>Project D</td>\n",
       "      <td>Prajwal</td>\n",
       "      <td>65.973787</td>\n",
       "    </tr>\n",
       "    <tr>\n",
       "      <th>3</th>\n",
       "      <td>290</td>\n",
       "      <td>SARA STOKES</td>\n",
       "      <td>30</td>\n",
       "      <td>FEMALE</td>\n",
       "      <td>IT</td>\n",
       "      <td>9921</td>\n",
       "      <td>2018-10-01</td>\n",
       "      <td>3.0</td>\n",
       "      <td>2</td>\n",
       "      <td>RETIRED</td>\n",
       "      <td>...</td>\n",
       "      <td>0.990975</td>\n",
       "      <td>JUNIOR</td>\n",
       "      <td>MIDDLE-AGED</td>\n",
       "      <td>2</td>\n",
       "      <td>2018</td>\n",
       "      <td>826.750000</td>\n",
       "      <td>290</td>\n",
       "      <td>Project C</td>\n",
       "      <td>Ayush</td>\n",
       "      <td>70.622416</td>\n",
       "    </tr>\n",
       "    <tr>\n",
       "      <th>4</th>\n",
       "      <td>595</td>\n",
       "      <td>MICHELLE SMITH</td>\n",
       "      <td>35</td>\n",
       "      <td>FEMALE</td>\n",
       "      <td>SALES</td>\n",
       "      <td>9906</td>\n",
       "      <td>2018-12-18</td>\n",
       "      <td>2.9</td>\n",
       "      <td>9</td>\n",
       "      <td>ACTIVE</td>\n",
       "      <td>...</td>\n",
       "      <td>0.989095</td>\n",
       "      <td>SENIOR</td>\n",
       "      <td>MIDDLE-AGED</td>\n",
       "      <td>5</td>\n",
       "      <td>2018</td>\n",
       "      <td>825.500000</td>\n",
       "      <td>595</td>\n",
       "      <td>Project C</td>\n",
       "      <td>Ayush</td>\n",
       "      <td>66.744894</td>\n",
       "    </tr>\n",
       "    <tr>\n",
       "      <th>...</th>\n",
       "      <td>...</td>\n",
       "      <td>...</td>\n",
       "      <td>...</td>\n",
       "      <td>...</td>\n",
       "      <td>...</td>\n",
       "      <td>...</td>\n",
       "      <td>...</td>\n",
       "      <td>...</td>\n",
       "      <td>...</td>\n",
       "      <td>...</td>\n",
       "      <td>...</td>\n",
       "      <td>...</td>\n",
       "      <td>...</td>\n",
       "      <td>...</td>\n",
       "      <td>...</td>\n",
       "      <td>...</td>\n",
       "      <td>...</td>\n",
       "      <td>...</td>\n",
       "      <td>...</td>\n",
       "      <td>...</td>\n",
       "      <td>...</td>\n",
       "    </tr>\n",
       "    <tr>\n",
       "      <th>412</th>\n",
       "      <td>842</td>\n",
       "      <td>TAMMY SMITH</td>\n",
       "      <td>30</td>\n",
       "      <td>FEMALE</td>\n",
       "      <td>SALES</td>\n",
       "      <td>2087</td>\n",
       "      <td>2015-01-09</td>\n",
       "      <td>5.0</td>\n",
       "      <td>6</td>\n",
       "      <td>RETIRED</td>\n",
       "      <td>...</td>\n",
       "      <td>0.009025</td>\n",
       "      <td>MID</td>\n",
       "      <td>MIDDLE-AGED</td>\n",
       "      <td>221</td>\n",
       "      <td>2015</td>\n",
       "      <td>173.916667</td>\n",
       "      <td>842</td>\n",
       "      <td>Project C</td>\n",
       "      <td>Ayush</td>\n",
       "      <td>-64.870120</td>\n",
       "    </tr>\n",
       "    <tr>\n",
       "      <th>413</th>\n",
       "      <td>788</td>\n",
       "      <td>DAVID WILLIAMS</td>\n",
       "      <td>33</td>\n",
       "      <td>FEMALE</td>\n",
       "      <td>SALES</td>\n",
       "      <td>2078</td>\n",
       "      <td>2021-09-22</td>\n",
       "      <td>3.0</td>\n",
       "      <td>15</td>\n",
       "      <td>RETIRED</td>\n",
       "      <td>...</td>\n",
       "      <td>0.007897</td>\n",
       "      <td>SENIOR</td>\n",
       "      <td>MIDDLE-AGED</td>\n",
       "      <td>222</td>\n",
       "      <td>2021</td>\n",
       "      <td>173.166667</td>\n",
       "      <td>788</td>\n",
       "      <td>Project A</td>\n",
       "      <td>Ayush</td>\n",
       "      <td>-65.021614</td>\n",
       "    </tr>\n",
       "    <tr>\n",
       "      <th>414</th>\n",
       "      <td>570</td>\n",
       "      <td>PAUL SMITH</td>\n",
       "      <td>35</td>\n",
       "      <td>FEMALE</td>\n",
       "      <td>IT</td>\n",
       "      <td>2042</td>\n",
       "      <td>2016-12-22</td>\n",
       "      <td>2.9</td>\n",
       "      <td>4</td>\n",
       "      <td>ACTIVE</td>\n",
       "      <td>...</td>\n",
       "      <td>0.003384</td>\n",
       "      <td>MID</td>\n",
       "      <td>MIDDLE-AGED</td>\n",
       "      <td>226</td>\n",
       "      <td>2016</td>\n",
       "      <td>170.166667</td>\n",
       "      <td>570</td>\n",
       "      <td>Project D</td>\n",
       "      <td>Ayush</td>\n",
       "      <td>-64.881466</td>\n",
       "    </tr>\n",
       "    <tr>\n",
       "      <th>415</th>\n",
       "      <td>883</td>\n",
       "      <td>JACLYN COLLINS</td>\n",
       "      <td>47</td>\n",
       "      <td>MALE</td>\n",
       "      <td>IT</td>\n",
       "      <td>2029</td>\n",
       "      <td>2019-12-05</td>\n",
       "      <td>2.9</td>\n",
       "      <td>17</td>\n",
       "      <td>ACTIVE</td>\n",
       "      <td>...</td>\n",
       "      <td>0.001755</td>\n",
       "      <td>SENIOR</td>\n",
       "      <td>MIDDLE-AGED</td>\n",
       "      <td>227</td>\n",
       "      <td>2019</td>\n",
       "      <td>169.083333</td>\n",
       "      <td>883</td>\n",
       "      <td>Project D</td>\n",
       "      <td>Ayush</td>\n",
       "      <td>-65.105042</td>\n",
       "    </tr>\n",
       "    <tr>\n",
       "      <th>416</th>\n",
       "      <td>474</td>\n",
       "      <td>DAVID POTTER</td>\n",
       "      <td>56</td>\n",
       "      <td>MALE</td>\n",
       "      <td>IT</td>\n",
       "      <td>2016</td>\n",
       "      <td>2020-07-13</td>\n",
       "      <td>2.9</td>\n",
       "      <td>18</td>\n",
       "      <td>ACTIVE</td>\n",
       "      <td>...</td>\n",
       "      <td>0.000125</td>\n",
       "      <td>SENIOR</td>\n",
       "      <td>MIDDLE-AGED</td>\n",
       "      <td>228</td>\n",
       "      <td>2020</td>\n",
       "      <td>168.000000</td>\n",
       "      <td>474</td>\n",
       "      <td>Project C</td>\n",
       "      <td>Ayush</td>\n",
       "      <td>-65.328617</td>\n",
       "    </tr>\n",
       "  </tbody>\n",
       "</table>\n",
       "<p>417 rows × 22 columns</p>\n",
       "</div>"
      ],
      "text/plain": [
       "      ID            Name  Age  Gender Department  Salary Joining Date  \\\n",
       "0    938   GARY MITCHELL   52  FEMALE      SALES    9963   2016-09-22   \n",
       "1    909   SARA MARTINEZ   34  FEMALE         HR    9951   2024-02-18   \n",
       "2    121   DAVID HAMPTON   39  FEMALE         HR    9941   2024-07-06   \n",
       "3    290     SARA STOKES   30  FEMALE         IT    9921   2018-10-01   \n",
       "4    595  MICHELLE SMITH   35  FEMALE      SALES    9906   2018-12-18   \n",
       "..   ...             ...  ...     ...        ...     ...          ...   \n",
       "412  842     TAMMY SMITH   30  FEMALE      SALES    2087   2015-01-09   \n",
       "413  788  DAVID WILLIAMS   33  FEMALE      SALES    2078   2021-09-22   \n",
       "414  570      PAUL SMITH   35  FEMALE         IT    2042   2016-12-22   \n",
       "415  883  JACLYN COLLINS   47    MALE         IT    2029   2019-12-05   \n",
       "416  474    DAVID POTTER   56    MALE         IT    2016   2020-07-13   \n",
       "\n",
       "     Performance Score  Experience   Status  ... Normalized Salary  \\\n",
       "0                  5.0          20  RETIRED  ...          0.996240   \n",
       "1                  2.9           6  RETIRED  ...          0.994736   \n",
       "2                  3.0          15  RETIRED  ...          0.993482   \n",
       "3                  3.0           2  RETIRED  ...          0.990975   \n",
       "4                  2.9           9   ACTIVE  ...          0.989095   \n",
       "..                 ...         ...      ...  ...               ...   \n",
       "412                5.0           6  RETIRED  ...          0.009025   \n",
       "413                3.0          15  RETIRED  ...          0.007897   \n",
       "414                2.9           4   ACTIVE  ...          0.003384   \n",
       "415                2.9          17   ACTIVE  ...          0.001755   \n",
       "416                2.9          18   ACTIVE  ...          0.000125   \n",
       "\n",
       "     Experience Level    Age Group Salary Rank Year Joined  Monthly Salary  \\\n",
       "0              SENIOR  MIDDLE-AGED           1        2016      830.250000   \n",
       "1                 MID  MIDDLE-AGED           2        2024      829.250000   \n",
       "2              SENIOR  MIDDLE-AGED           3        2024      828.416667   \n",
       "3              JUNIOR  MIDDLE-AGED           2        2018      826.750000   \n",
       "4              SENIOR  MIDDLE-AGED           5        2018      825.500000   \n",
       "..                ...          ...         ...         ...             ...   \n",
       "412               MID  MIDDLE-AGED         221        2015      173.916667   \n",
       "413            SENIOR  MIDDLE-AGED         222        2021      173.166667   \n",
       "414               MID  MIDDLE-AGED         226        2016      170.166667   \n",
       "415            SENIOR  MIDDLE-AGED         227        2019      169.083333   \n",
       "416            SENIOR  MIDDLE-AGED         228        2020      168.000000   \n",
       "\n",
       "     Employee ID   Projects  Team Lead Salary Increase %  \n",
       "0            938  Project D      Ayush         67.704359  \n",
       "1            909  Project C    Prajwal         66.140746  \n",
       "2            121  Project D    Prajwal         65.973787  \n",
       "3            290  Project C      Ayush         70.622416  \n",
       "4            595  Project C      Ayush         66.744894  \n",
       "..           ...        ...        ...               ...  \n",
       "412          842  Project C      Ayush        -64.870120  \n",
       "413          788  Project A      Ayush        -65.021614  \n",
       "414          570  Project D      Ayush        -64.881466  \n",
       "415          883  Project D      Ayush        -65.105042  \n",
       "416          474  Project C      Ayush        -65.328617  \n",
       "\n",
       "[417 rows x 22 columns]"
      ]
     },
     "execution_count": 9,
     "metadata": {},
     "output_type": "execute_result"
    }
   ],
   "source": [
    "df"
   ]
  },
  {
   "cell_type": "markdown",
   "metadata": {},
   "source": [
    "# 3. DATA ANALYSIS"
   ]
  },
  {
   "cell_type": "markdown",
   "metadata": {},
   "source": [
    "# the count of employee active and retired"
   ]
  },
  {
   "cell_type": "code",
   "execution_count": null,
   "metadata": {},
   "outputs": [
    {
     "data": {
      "text/plain": [
       "Text(0.5, 1.0, 'count of employes active ')"
      ]
     },
     "execution_count": 10,
     "metadata": {},
     "output_type": "execute_result"
    },
    {
     "data": {
      "image/png": "[encoded data removed]",
      "text/plain": [
       "<Figure size 400x400 with 1 Axes>"
      ]
     },
     "metadata": {},
     "output_type": "display_data"
    }
   ],
   "source": [
    "plt.figure(figsize=(4,4))\n",
    "c=sns.countplot(data=df,x='Status')\n",
    "c.bar_label(c.containers[0])\n",
    "plt.title('count of employes active ')"
   ]
  },
  {
   "cell_type": "markdown",
   "metadata": {},
   "source": [
    "out of 417 employee , the number of employee active are 206 "
   ]
  },
  {
   "cell_type": "code",
   "execution_count": null,
   "metadata": {},
   "outputs": [],
   "source": [
    "# Count the occurrences of 'Active' and 'Retired' in the 'Status' column\n",
    "# status_counts = df['Status'].value_counts()\n",
    "# status_counts"
   ]
  },
  {
   "cell_type": "markdown",
   "metadata": {},
   "source": [
    "# no of female and male employee"
   ]
  },
  {
   "cell_type": "code",
   "execution_count": null,
   "metadata": {},
   "outputs": [
    {
     "data": {
      "text/plain": [
       "Gender\n",
       "FEMALE    291\n",
       "MALE      126\n",
       "Name: count, dtype: int64"
      ]
     },
     "execution_count": 12,
     "metadata": {},
     "output_type": "execute_result"
    }
   ],
   "source": [
    "gender_count=df['Gender'].value_counts()\n",
    "gender_count"
   ]
  },
  {
   "cell_type": "markdown",
   "metadata": {},
   "source": [
    "Out of 417 , the count of female employee are more than male which shows the 70% of the company are female employee"
   ]
  },
  {
   "cell_type": "markdown",
   "metadata": {},
   "source": [
    " # Department wise count of female and male employee"
   ]
  },
  {
   "cell_type": "code",
   "execution_count": null,
   "metadata": {},
   "outputs": [
    {
     "data": {
      "text/html": [
       "<div>\n",
       "<style scoped>\n",
       "    .dataframe tbody tr th:only-of-type {\n",
       "        vertical-align: middle;\n",
       "    }\n",
       "\n",
       "    .dataframe tbody tr th {\n",
       "        vertical-align: top;\n",
       "    }\n",
       "\n",
       "    .dataframe thead th {\n",
       "        text-align: right;\n",
       "    }\n",
       "</style>\n",
       "<table border=\"1\" class=\"dataframe\">\n",
       "  <thead>\n",
       "    <tr style=\"text-align: right;\">\n",
       "      <th>Gender</th>\n",
       "      <th>FEMALE</th>\n",
       "      <th>MALE</th>\n",
       "    </tr>\n",
       "    <tr>\n",
       "      <th>Department</th>\n",
       "      <th></th>\n",
       "      <th></th>\n",
       "    </tr>\n",
       "  </thead>\n",
       "  <tbody>\n",
       "    <tr>\n",
       "      <th>HR</th>\n",
       "      <td>79</td>\n",
       "      <td>45</td>\n",
       "    </tr>\n",
       "    <tr>\n",
       "      <th>IT</th>\n",
       "      <td>112</td>\n",
       "      <td>43</td>\n",
       "    </tr>\n",
       "    <tr>\n",
       "      <th>SALES</th>\n",
       "      <td>100</td>\n",
       "      <td>38</td>\n",
       "    </tr>\n",
       "  </tbody>\n",
       "</table>\n",
       "</div>"
      ],
      "text/plain": [
       "Gender      FEMALE  MALE\n",
       "Department              \n",
       "HR              79    45\n",
       "IT             112    43\n",
       "SALES          100    38"
      ]
     },
     "execution_count": 13,
     "metadata": {},
     "output_type": "execute_result"
    }
   ],
   "source": [
    "# Group by 'Department' and count occurrences of 'Gender'\n",
    "by_dept = df.groupby('Department')['Gender'].value_counts().unstack()\n",
    "by_dept"
   ]
  },
  {
   "cell_type": "markdown",
   "metadata": {},
   "source": [
    "since the women are more in whole , the count of the female are more than males in all the 3 departments and high in IT department"
   ]
  },
  {
   "cell_type": "markdown",
   "metadata": {},
   "source": [
    "# Department wise gender count with their rate of performance"
   ]
  },
  {
   "cell_type": "code",
   "execution_count": null,
   "metadata": {},
   "outputs": [
    {
     "data": {
      "text/html": [
       "<div>\n",
       "<style scoped>\n",
       "    .dataframe tbody tr th:only-of-type {\n",
       "        vertical-align: middle;\n",
       "    }\n",
       "\n",
       "    .dataframe tbody tr th {\n",
       "        vertical-align: top;\n",
       "    }\n",
       "\n",
       "    .dataframe thead th {\n",
       "        text-align: right;\n",
       "    }\n",
       "</style>\n",
       "<table border=\"1\" class=\"dataframe\">\n",
       "  <thead>\n",
       "    <tr style=\"text-align: right;\">\n",
       "      <th></th>\n",
       "      <th></th>\n",
       "      <th>Gender</th>\n",
       "      <th>Performance Score</th>\n",
       "    </tr>\n",
       "    <tr>\n",
       "      <th>Department</th>\n",
       "      <th>Gender</th>\n",
       "      <th></th>\n",
       "      <th></th>\n",
       "    </tr>\n",
       "  </thead>\n",
       "  <tbody>\n",
       "    <tr>\n",
       "      <th rowspan=\"2\" valign=\"top\">HR</th>\n",
       "      <th>FEMALE</th>\n",
       "      <td>79</td>\n",
       "      <td>3.091139</td>\n",
       "    </tr>\n",
       "    <tr>\n",
       "      <th>MALE</th>\n",
       "      <td>45</td>\n",
       "      <td>2.957778</td>\n",
       "    </tr>\n",
       "    <tr>\n",
       "      <th rowspan=\"2\" valign=\"top\">IT</th>\n",
       "      <th>FEMALE</th>\n",
       "      <td>112</td>\n",
       "      <td>3.043750</td>\n",
       "    </tr>\n",
       "    <tr>\n",
       "      <th>MALE</th>\n",
       "      <td>43</td>\n",
       "      <td>2.995349</td>\n",
       "    </tr>\n",
       "    <tr>\n",
       "      <th rowspan=\"2\" valign=\"top\">SALES</th>\n",
       "      <th>FEMALE</th>\n",
       "      <td>100</td>\n",
       "      <td>3.009000</td>\n",
       "    </tr>\n",
       "    <tr>\n",
       "      <th>MALE</th>\n",
       "      <td>38</td>\n",
       "      <td>2.971053</td>\n",
       "    </tr>\n",
       "  </tbody>\n",
       "</table>\n",
       "</div>"
      ],
      "text/plain": [
       "                   Gender  Performance Score\n",
       "Department Gender                           \n",
       "HR         FEMALE      79           3.091139\n",
       "           MALE        45           2.957778\n",
       "IT         FEMALE     112           3.043750\n",
       "           MALE        43           2.995349\n",
       "SALES      FEMALE     100           3.009000\n",
       "           MALE        38           2.971053"
      ]
     },
     "execution_count": 14,
     "metadata": {},
     "output_type": "execute_result"
    }
   ],
   "source": [
    "# Group by 'Department' and 'Gender' to get counts and mean of Performance Score\n",
    "by_dept = df.groupby(['Department', 'Gender']).agg({'Gender': 'count','Performance Score': 'mean'})\n",
    "by_dept\n"
   ]
  },
  {
   "cell_type": "code",
   "execution_count": null,
   "metadata": {},
   "outputs": [
    {
     "name": "stderr",
     "output_type": "stream",
     "text": [
      "C:\\Users\\ashwi\\AppData\\Local\\Temp\\ipykernel_17340\\2215390409.py:2: FutureWarning: \n",
      "\n",
      "The `ci` parameter is deprecated. Use `errorbar=None` for the same effect.\n",
      "\n",
      "  d=sns.barplot(x='Department', y='Performance Score', hue='Gender', data=df,ci=None)\n"
     ]
    },
    {
     "data": {
      "text/plain": [
       "Text(0.5, 1.0, 'Gender Count and Performance Score by Department')"
      ]
     },
     "execution_count": 15,
     "metadata": {},
     "output_type": "execute_result"
    },
    {
     "data": {
      "image/png": "[encoded data removed]",
      "text/plain": [
       "<Figure size 500x400 with 1 Axes>"
      ]
     },
     "metadata": {},
     "output_type": "display_data"
    }
   ],
   "source": [
    "plt.figure(figsize=(5,4))\n",
    "d=sns.barplot(x='Department', y='Performance Score', hue='Gender', data=df,ci=None)\n",
    "for i in d.containers:\n",
    "    d.bar_label(i,fmt='%.2f%%')\n",
    "plt.title('Gender Count and Performance Score by Department')\n"
   ]
  },
  {
   "cell_type": "markdown",
   "metadata": {},
   "source": [
    "in the above both the cells  shows that the department of IT having highest number of employee ,HR deparment has highst performance and n every deparment women are having high performence than compared to men\n",
    ">> sales=5.98\n",
    ">> hr= 6.05\n",
    ">> it = 6.04"
   ]
  },
  {
   "cell_type": "markdown",
   "metadata": {},
   "source": [
    "# Gender and Experience"
   ]
  },
  {
   "cell_type": "code",
   "execution_count": null,
   "metadata": {},
   "outputs": [
    {
     "name": "stderr",
     "output_type": "stream",
     "text": [
      "C:\\Users\\ashwi\\AppData\\Local\\Temp\\ipykernel_17340\\2156622260.py:2: FutureWarning: \n",
      "\n",
      "The `ci` parameter is deprecated. Use `errorbar=('ci', True)` for the same effect.\n",
      "\n",
      "  e=sns.barplot(data=df,x='Gender',y='Experience',ci=True)\n"
     ]
    },
    {
     "data": {
      "text/plain": [
       "Text(0.5, 1.0, 'gender wise Experience')"
      ]
     },
     "execution_count": 16,
     "metadata": {},
     "output_type": "execute_result"
    },
    {
     "data": {
      "image/png": "[encoded data removed]",
      "text/plain": [
       "<Figure size 300x400 with 1 Axes>"
      ]
     },
     "metadata": {},
     "output_type": "display_data"
    }
   ],
   "source": [
    "plt.figure(figsize=(3,4))\n",
    "e=sns.barplot(data=df,x='Gender',y='Experience',ci=True)\n",
    "e.bar_label(e.containers[0],fmt='%2f%%')\n",
    "plt.title('gender wise Experience')"
   ]
  },
  {
   "cell_type": "markdown",
   "metadata": {},
   "source": [
    "though men are having less in head counts but they are having higher experience than female"
   ]
  },
  {
   "cell_type": "markdown",
   "metadata": {},
   "source": []
  },
  {
   "cell_type": "code",
   "execution_count": null,
   "metadata": {},
   "outputs": [
    {
     "name": "stderr",
     "output_type": "stream",
     "text": [
      "C:\\Users\\ashwi\\AppData\\Local\\Temp\\ipykernel_17340\\790234669.py:2: FutureWarning: \n",
      "\n",
      "The `ci` parameter is deprecated. Use `errorbar=('ci', True)` for the same effect.\n",
      "\n",
      "  e=sns.barplot(data=df,x='Gender',y='Salary',ci=True)\n"
     ]
    },
    {
     "data": {
      "text/plain": [
       "Text(0.5, 1.0, 'salary by gender')"
      ]
     },
     "execution_count": 17,
     "metadata": {},
     "output_type": "execute_result"
    },
    {
     "data": {
      "image/png": "[encoded data removed]",
      "text/plain": [
       "<Figure size 400x400 with 1 Axes>"
      ]
     },
     "metadata": {},
     "output_type": "display_data"
    }
   ],
   "source": [
    "plt.figure(figsize=(4,4))\n",
    "e=sns.barplot(data=df,x='Gender',y='Salary',ci=True)\n",
    "e.bar_label(e.containers[0])\n",
    "plt.title('salary by gender')"
   ]
  },
  {
   "cell_type": "markdown",
   "metadata": {},
   "source": [
    "can observe that men are leading in salary also than women , may be having highest experience in men a critirea to get high pay"
   ]
  },
  {
   "cell_type": "markdown",
   "metadata": {},
   "source": [
    "# DEFINEING THE ATTRITION AND RETENTION"
   ]
  },
  {
   "cell_type": "markdown",
   "metadata": {},
   "source": [
    "> attrition:the number of employees , who leave an oraganization over a specific period(voluntarily or involuntarily)\n",
    "\n",
    "> Retension: number of employee , joined the organization \n",
    "\n",
    ">Number of customers at the end of the period - Number of new customers acquired during the period) / Number of customers at the start of the period) * 100\n",
    "\n",
    ">Attrition Rate = (Number of employees who left during a period / Average number of employees during that period) x 100"
   ]
  },
  {
   "cell_type": "code",
   "execution_count": null,
   "metadata": {},
   "outputs": [
    {
     "name": "stdout",
     "output_type": "stream",
     "text": [
      "Attrition Count: 211\n",
      "Retention Count: 206\n"
     ]
    }
   ],
   "source": [
    "# Count attrition vs retention\n",
    "attrition_count = df[df['Status'] == 'RETIRED'].shape[0]\n",
    "retention_count = df[df['Status'] == 'ACTIVE'].shape[0]\n",
    "\n",
    "print(f\"Attrition Count: {attrition_count}\")\n",
    "print(f\"Retention Count: {retention_count}\")\n"
   ]
  },
  {
   "cell_type": "code",
   "execution_count": null,
   "metadata": {},
   "outputs": [
    {
     "data": {
      "image/png": "[encoded data removed]",
      "text/plain": [
       "<Figure size 1000x400 with 1 Axes>"
      ]
     },
     "metadata": {},
     "output_type": "display_data"
    }
   ],
   "source": [
    "# Attrition by department\n",
    "plt.figure(figsize=(10, 4))\n",
    "f=sns.countplot(data=df, x='Department', hue='Status')\n",
    "for i in f.containers:\n",
    "    f.bar_label(i,fmt='%.2f%%')\n",
    "plt.title('Attrition Rate by Department')\n",
    "plt.xticks(rotation=45)\n",
    "plt.show()"
   ]
  },
  {
   "cell_type": "markdown",
   "metadata": {},
   "source": [
    "in the above figure , the atttritob rate and the retied rate both are equal in HR department and the attrition rate is higher in the SALES department"
   ]
  },
  {
   "cell_type": "code",
   "execution_count": null,
   "metadata": {},
   "outputs": [
    {
     "name": "stderr",
     "output_type": "stream",
     "text": [
      "C:\\Users\\ashwi\\AppData\\Local\\Temp\\ipykernel_17340\\2685929173.py:7: FutureWarning: \n",
      "\n",
      "Passing `palette` without assigning `hue` is deprecated and will be removed in v0.14.0. Assign the `x` variable to `hue` and set `legend=False` for the same effect.\n",
      "\n",
      "  g=sns.barplot(x=gender_attrition.index , y= gender_attrition['Attrition Rate (%)'], palette='magma')\n"
     ]
    },
    {
     "data": {
      "image/png": "[encoded data removed]",
      "text/plain": [
       "<Figure size 400x300 with 1 Axes>"
      ]
     },
     "metadata": {},
     "output_type": "display_data"
    }
   ],
   "source": [
    "# by gender\n",
    "gender_attrition = df.groupby('Gender')['Status'].value_counts().unstack().fillna(0)\n",
    "gender_attrition['Attrition Rate (%)'] = (gender_attrition['RETIRED'] / gender_attrition.sum(axis=1)) * 100\n",
    "gender_attrition\n",
    "\n",
    "plt.figure(figsize=(4,3))\n",
    "g=sns.barplot(x=gender_attrition.index , y= gender_attrition['Attrition Rate (%)'], palette='magma')\n",
    "g.bar_label(g.containers[1])\n",
    "plt.title('Attrition Rate by Gender')\n",
    "plt.xlabel('Attrition Rate (%)')\n",
    "plt.ylabel('Gender')\n",
    "plt.show()"
   ]
  },
  {
   "cell_type": "code",
   "execution_count": null,
   "metadata": {},
   "outputs": [
    {
     "data": {
      "image/png": "[encoded data removed]",
      "text/plain": [
       "<Figure size 1000x400 with 1 Axes>"
      ]
     },
     "metadata": {},
     "output_type": "display_data"
    }
   ],
   "source": [
    "# Convert joining date to datetime\n",
    "df['Joining Date'] = pd.to_datetime(df['Joining Date'])\n",
    "\n",
    "attrition_over_time = df[df['Status'] == 'RETIRED'].groupby(df['Joining Date'].dt.year).size()\n",
    "\n",
    "plt.figure(figsize=(10,4))\n",
    "attrition_over_time.plot(kind='line')\n",
    "plt.title('Attrition Over Time')\n",
    "plt.xlabel('Year')\n",
    "plt.ylabel('Number of Retired Employees')\n",
    "plt.show()\n"
   ]
  },
  {
   "cell_type": "code",
   "execution_count": null,
   "metadata": {},
   "outputs": [
    {
     "data": {
      "image/png": "[encoded data removed]",
      "text/plain": [
       "<Figure size 800x600 with 2 Axes>"
      ]
     },
     "metadata": {},
     "output_type": "display_data"
    }
   ],
   "source": [
    "df['Status_Num'] = df['Status'].map({'ACTIVE': 0, 'RETIRED': 1})\n",
    "correlation_matrix = df[['Salary', 'Experience', 'Performance Score', 'Status_Num']].corr()\n",
    "\n",
    "plt.figure(figsize=(8, 6))\n",
    "sns.heatmap(correlation_matrix, annot=True, cmap='coolwarm',linewidths=0.5)\n",
    "plt.title('Correlation with Attrition')\n",
    "plt.show()\n"
   ]
  },
  {
   "cell_type": "markdown",
   "metadata": {},
   "source": [
    "Money isn’t the biggest factor in employees leaving.\n",
    "\n",
    "Experience matters a little, especially when people are getting close to retirement.\n",
    "\n",
    "Performance scores aren’t a big predictor of attrition.\n",
    "\n",
    "Something else (like job satisfaction, work environment, leadership) might be driving attrition."
   ]
  },
  {
   "cell_type": "markdown",
   "metadata": {},
   "source": [
    "Attrition Trends: High Salary and Experience might be linked to higher attrition, which is interesting and worth exploring further.\n",
    "\n",
    ">>Experience & Salary:\n",
    "Negative Correlation, This means that as experience increases, salary tends to decrease a bit.\n",
    "\n",
    ">>Salary & Retired Status:\n",
    "Very Weak Correlation,Salary doesn’t really affect whether someone leaves the company.\n",
    "\n",
    ">>Experience & Retired Status:\n",
    "Weak Positive Correlation ,A slight tendency for more experienced employees to retire.\n",
    "Makes sense because older employees might be close to retirement age.\n",
    "\n",
    ">>Performance Score & Retired Status:\n",
    "Very Weak Correlation ,Performance doesn’t strongly influence whether someone stays or leaves.So, even high performers aren’t necessarily staying longer."
   ]
  },
  {
   "cell_type": "code",
   "execution_count": null,
   "metadata": {},
   "outputs": [
    {
     "name": "stderr",
     "output_type": "stream",
     "text": [
      "C:\\Users\\ashwi\\AppData\\Local\\Temp\\ipykernel_17340\\2127635007.py:7: FutureWarning: \n",
      "\n",
      "Passing `palette` without assigning `hue` is deprecated and will be removed in v0.14.0. Assign the `y` variable to `hue` and set `legend=False` for the same effect.\n",
      "\n",
      "  h=sns.barplot(x=department_retention['Retention Rate (%)'], y=department_retention.index, palette='cubehelix')\n"
     ]
    },
    {
     "data": {
      "image/png": "[encoded data removed]",
      "text/plain": [
       "<Figure size 600x300 with 1 Axes>"
      ]
     },
     "metadata": {},
     "output_type": "display_data"
    }
   ],
   "source": [
    "# retention by department\n",
    "department_retention = df.groupby('Department')['Status'].value_counts().unstack().fillna(0)\n",
    "department_retention['Retention Rate (%)'] = (department_retention['ACTIVE'] / department_retention.sum(axis=1)) * 100\n",
    "department_retention\n",
    "\n",
    "plt.figure(figsize=(6,3))\n",
    "h=sns.barplot(x=department_retention['Retention Rate (%)'], y=department_retention.index, palette='cubehelix')\n",
    "plt.title('Retention Rate by Department')\n",
    "plt.show()\n"
   ]
  },
  {
   "cell_type": "markdown",
   "metadata": {},
   "source": [
    ">>When we look at the retention rates, IT stands out with the highest at 51.62%, meaning over half of our IT team is staying with us. HR isn’t far behind at 50%, which is solid. However, Sales has a lower retention rate at 46.38%, which is something we should look into. It might be a sign that our Sales team needs more support, better incentives, or clearer growth opportunities to feel more connected and committed\n"
   ]
  },
  {
   "cell_type": "code",
   "execution_count": null,
   "metadata": {},
   "outputs": [
    {
     "name": "stderr",
     "output_type": "stream",
     "text": [
      "C:\\Users\\ashwi\\AppData\\Local\\Temp\\ipykernel_17340\\874418879.py:7: FutureWarning: \n",
      "\n",
      "Passing `palette` without assigning `hue` is deprecated and will be removed in v0.14.0. Assign the `x` variable to `hue` and set `legend=False` for the same effect.\n",
      "\n",
      "  sns.barplot(y=gender_retention['Retention Rate (%)'], x=gender_retention.index, palette='coolwarm')\n"
     ]
    },
    {
     "data": {
      "image/png": "[encoded data removed]",
      "text/plain": [
       "<Figure size 400x300 with 1 Axes>"
      ]
     },
     "metadata": {},
     "output_type": "display_data"
    }
   ],
   "source": [
    "# retebtion by gender\n",
    "gender_retention = df.groupby('Gender')['Status'].value_counts().unstack().fillna(0)\n",
    "gender_retention['Retention Rate (%)'] = (gender_retention['ACTIVE'] / gender_retention.sum(axis=1)) * 100\n",
    "gender_retention\n",
    "\n",
    "plt.figure(figsize=(4,3))\n",
    "sns.barplot(y=gender_retention['Retention Rate (%)'], x=gender_retention.index, palette='coolwarm')\n",
    "plt.title('Retention Rate by Gender')\n",
    "plt.show()\n"
   ]
  },
  {
   "cell_type": "markdown",
   "metadata": {},
   "source": [
    "the retention is highest in male and lower in female"
   ]
  },
  {
   "cell_type": "code",
   "execution_count": null,
   "metadata": {},
   "outputs": [
    {
     "data": {
      "text/html": [
       "<div>\n",
       "<style scoped>\n",
       "    .dataframe tbody tr th:only-of-type {\n",
       "        vertical-align: middle;\n",
       "    }\n",
       "\n",
       "    .dataframe tbody tr th {\n",
       "        vertical-align: top;\n",
       "    }\n",
       "\n",
       "    .dataframe thead th {\n",
       "        text-align: right;\n",
       "    }\n",
       "</style>\n",
       "<table border=\"1\" class=\"dataframe\">\n",
       "  <thead>\n",
       "    <tr style=\"text-align: right;\">\n",
       "      <th>Status</th>\n",
       "      <th>ACTIVE</th>\n",
       "      <th>RETIRED</th>\n",
       "      <th>Retention Rate (%)</th>\n",
       "    </tr>\n",
       "    <tr>\n",
       "      <th>Experience Level</th>\n",
       "      <th></th>\n",
       "      <th></th>\n",
       "      <th></th>\n",
       "    </tr>\n",
       "  </thead>\n",
       "  <tbody>\n",
       "    <tr>\n",
       "      <th>JUNIOR</th>\n",
       "      <td>35</td>\n",
       "      <td>29</td>\n",
       "      <td>54.687500</td>\n",
       "    </tr>\n",
       "    <tr>\n",
       "      <th>MID</th>\n",
       "      <td>68</td>\n",
       "      <td>58</td>\n",
       "      <td>53.968254</td>\n",
       "    </tr>\n",
       "    <tr>\n",
       "      <th>SENIOR</th>\n",
       "      <td>103</td>\n",
       "      <td>124</td>\n",
       "      <td>45.374449</td>\n",
       "    </tr>\n",
       "  </tbody>\n",
       "</table>\n",
       "</div>"
      ],
      "text/plain": [
       "Status            ACTIVE  RETIRED  Retention Rate (%)\n",
       "Experience Level                                     \n",
       "JUNIOR                35       29           54.687500\n",
       "MID                   68       58           53.968254\n",
       "SENIOR               103      124           45.374449"
      ]
     },
     "execution_count": 25,
     "metadata": {},
     "output_type": "execute_result"
    }
   ],
   "source": [
    "# retention by experence\n",
    "experience_retention = df.groupby('Experience Level')['Status'].value_counts().unstack().fillna(0)\n",
    "experience_retention['Retention Rate (%)'] = (experience_retention['ACTIVE'] / experience_retention.sum(axis=1)) * 100\n",
    "experience_retention"
   ]
  },
  {
   "cell_type": "markdown",
   "metadata": {},
   "source": [
    ">>Juniors Have the Highest Retention:\n",
    "This could indicate that juniors are either satisfied with their roles,\n",
    "\n",
    ">>Mid-Level Employees Are Slightly Lower:\n",
    "53.97% retention suggests that mid-level employees face more challenges\n",
    "\n",
    ">>seniors Have the Lowest Retention:\n",
    "45.37% retention is the lowest, meaning more than half of the senior employees have left.\n",
    "This could be a red flag, as senior employees bring experience"
   ]
  },
  {
   "cell_type": "code",
   "execution_count": null,
   "metadata": {},
   "outputs": [
    {
     "data": {
      "image/png": "[encoded data removed]",
      "text/plain": [
       "<Figure size 1200x400 with 1 Axes>"
      ]
     },
     "metadata": {},
     "output_type": "display_data"
    }
   ],
   "source": [
    "# retension over year analysis \n",
    "df['Year Joined'] = df['Joining Date'].dt.year\n",
    "retention_rate = df.groupby('Year Joined')['Status'].value_counts().unstack()\n",
    "retention_rate['ACTIVE'] /= (retention_rate['ACTIVE'] + retention_rate['RETIRED']) * 100  # formula to count retention\n",
    "\n",
    "retention_rate.plot(kind='bar', figsize=(12, 4))\n",
    "plt.title('Retention Rate Over the Years')\n",
    "plt.show()\n"
   ]
  },
  {
   "cell_type": "markdown",
   "metadata": {},
   "source": [
    "the joing / rettention rate was high in the period of 2016 and 2018 after that thee is a wave pattren till 2024 \n",
    "so therefore by analysing the trend pattren the rettention for next year might be a slightly higher than the previous year."
   ]
  },
  {
   "cell_type": "code",
   "execution_count": null,
   "metadata": {},
   "outputs": [
    {
     "data": {
      "image/png": "[encoded data removed]",
      "text/plain": [
       "<Figure size 640x480 with 1 Axes>"
      ]
     },
     "metadata": {},
     "output_type": "display_data"
    }
   ],
   "source": [
    "# Retention by Salary Bracket\n",
    "\n",
    "df['Salary Bracket'] = pd.cut(df['Monthly Salary'], bins=[0, 250, 500, 1000], labels=['Low', 'Medium', 'High'])\n",
    "g=sns.countplot(data=df, x='Salary Bracket', hue='Status')\n",
    "for i in g.containers:\n",
    "    g.bar_label(i)\n",
    "plt.title('Retention by Salary Bracket')\n",
    "plt.show()\n"
   ]
  },
  {
   "cell_type": "markdown",
   "metadata": {},
   "source": [
    "the brackets of high salary is having the highest active status , where can conclude that the retenttion is proportional to the salary "
   ]
  },
  {
   "cell_type": "code",
   "execution_count": null,
   "metadata": {},
   "outputs": [
    {
     "data": {
      "image/png": "[encoded data removed]",
      "text/plain": [
       "<Figure size 1000x400 with 1 Axes>"
      ]
     },
     "metadata": {},
     "output_type": "display_data"
    }
   ],
   "source": [
    "#salary vs. Retention: \n",
    "#Performance vs. Retention: \n",
    "#Impact of Team Size: \n",
    "df['Retention Indicator'] = df['Status'].apply(lambda x: 1 if x == 'ACTIVE' else 0)\n",
    "plt.figure(figsize=(10, 4))\n",
    "sns.scatterplot(x='Salary', y='Performance Score', hue='Retention Indicator', data=df, palette='viridis')\n",
    "plt.title('Salary vs Performance Score by Retention')\n",
    "plt.show()\n"
   ]
  },
  {
   "cell_type": "markdown",
   "metadata": {},
   "source": [
    "# ATTRITION FORMULA"
   ]
  },
  {
   "cell_type": "code",
   "execution_count": null,
   "metadata": {},
   "outputs": [
    {
     "name": "stdout",
     "output_type": "stream",
     "text": [
      "Attrition Rate: 50.60%\n"
     ]
    }
   ],
   "source": [
    "# (Number of employees who left during a period / Average number of employees during that period) x 100\n",
    "total_employees = df['Status'].value_counts().sum()  \n",
    "retired_count = df[df['Status'] == 'RETIRED'].shape[0]  \n",
    "attrition_rate = (retired_count / total_employees) * 100\n",
    "print(f\"Attrition Rate: {attrition_rate:.2f}%\")\n",
    "\n"
   ]
  },
  {
   "cell_type": "markdown",
   "metadata": {},
   "source": [
    "The attrition rate is 50.6%\n",
    ">A 50.6% attrition rate is a red flag.\n",
    ">This means you'll need to recruit and train 50 new employees, which can be costly and time-consuming.\n",
    ">An attrition rate of 50.6% means that approximately half of the employees have left the organization during the specified period. This is a     high attrition rate and can have significant implications for the business.\n",
    "\n",
    " "
   ]
  },
  {
   "cell_type": "markdown",
   "metadata": {},
   "source": [
    "# RETENTION FORMULA"
   ]
  },
  {
   "cell_type": "code",
   "execution_count": null,
   "metadata": {},
   "outputs": [
    {
     "name": "stdout",
     "output_type": "stream",
     "text": [
      "Retention Rate: 49.40%\n"
     ]
    }
   ],
   "source": [
    "retention_count = np.sum(df['Status'] == 'ACTIVE')  \n",
    "retention_rate = (retention_count / total_employees) * 100\n",
    "print(f\"Retention Rate: {retention_rate:.2f}%\")\n",
    "\n"
   ]
  },
  {
   "cell_type": "markdown",
   "metadata": {},
   "source": [
    "While 49.40% gives a snapshot,meaning we're keeping nearly half of our employees.This rate shows that we’re losing a significant number of employees, which could impact team stability and productivity.While 49.4% is our current figure, our goal should be to increase this"
   ]
  }
 ],
 "metadata": {
  "kernelspec": {
   "display_name": ".venv",
   "language": "python",
   "name": "python3"
  },
  "language_info": {
   "codemirror_mode": {
    "name": "ipython",
    "version": 3
   },
   "file_extension": ".py",
   "mimetype": "text/x-python",
   "name": "python",
   "nbconvert_exporter": "python",
   "pygments_lexer": "ipython3",
   "version": "3.13.0"
  }
 },
 "nbformat": 4,
 "nbformat_minor": 2
}

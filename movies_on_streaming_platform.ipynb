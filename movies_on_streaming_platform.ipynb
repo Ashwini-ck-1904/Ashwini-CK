{
  "cells": [
    {
      "cell_type": "markdown",
      "metadata": {},
      "source": [
        "# importing the libraries"
      ]
    },
    {
      "cell_type": "code",
      "execution_count": 2,
      "metadata": {
        "id": "ob3kIWxZVn5W"
      },
      "outputs": [],
      "source": [
        "import numpy as np\n",
        "import pandas as pd\n",
        "import seaborn as sns\n",
        "import matplotlib.pyplot as plt"
      ]
    },
    {
      "cell_type": "markdown",
      "metadata": {},
      "source": [
        "# loading the dataset "
      ]
    },
    {
      "cell_type": "code",
      "execution_count": 3,
      "metadata": {
        "colab": {
          "base_uri": "https://localhost:8080/"
        },
        "id": "oSb5vJ5NVwcG",
        "outputId": "9a4bc97f-cbfe-4257-b8db-6b9a78d657aa"
      },
      "outputs": [],
      "source": [
        "movie=pd.read_csv('https://raw.githubusercontent.com/rajeevratan84/datascienceforbusiness/refs/heads/master/MoviesOnStreamingPlatforms_updated.csv')\n",
        "\n",
        "\n"
      ]
    },
    {
      "cell_type": "markdown",
      "metadata": {},
      "source": [
        "# understanding the dataset"
      ]
    },
    {
      "cell_type": "code",
      "execution_count": 4,
      "metadata": {},
      "outputs": [
        {
          "data": {
            "text/plain": [
              "Index(['Unnamed: 0', 'ID', 'Title', 'Year', 'Age', 'IMDb', 'Rotten Tomatoes',\n",
              "       'Netflix', 'Hulu', 'Prime Video', 'Disney+', 'Type', 'Directors',\n",
              "       'Genres', 'Country', 'Language', 'Runtime'],\n",
              "      dtype='object')"
            ]
          },
          "execution_count": 4,
          "metadata": {},
          "output_type": "execute_result"
        }
      ],
      "source": [
        "movie.columns"
      ]
    },
    {
      "cell_type": "code",
      "execution_count": 5,
      "metadata": {},
      "outputs": [
        {
          "name": "stdout",
          "output_type": "stream",
          "text": [
            "<class 'pandas.core.frame.DataFrame'>\n",
            "RangeIndex: 16744 entries, 0 to 16743\n",
            "Data columns (total 17 columns):\n",
            " #   Column           Non-Null Count  Dtype  \n",
            "---  ------           --------------  -----  \n",
            " 0   Unnamed: 0       16744 non-null  int64  \n",
            " 1   ID               16744 non-null  int64  \n",
            " 2   Title            16744 non-null  object \n",
            " 3   Year             16744 non-null  int64  \n",
            " 4   Age              7354 non-null   object \n",
            " 5   IMDb             16173 non-null  float64\n",
            " 6   Rotten Tomatoes  5158 non-null   object \n",
            " 7   Netflix          16744 non-null  int64  \n",
            " 8   Hulu             16744 non-null  int64  \n",
            " 9   Prime Video      16744 non-null  int64  \n",
            " 10  Disney+          16744 non-null  int64  \n",
            " 11  Type             16744 non-null  int64  \n",
            " 12  Directors        16018 non-null  object \n",
            " 13  Genres           16469 non-null  object \n",
            " 14  Country          16309 non-null  object \n",
            " 15  Language         16130 non-null  object \n",
            " 16  Runtime          16152 non-null  float64\n",
            "dtypes: float64(2), int64(8), object(7)\n",
            "memory usage: 2.2+ MB\n"
          ]
        }
      ],
      "source": [
        "movie.info()"
      ]
    },
    {
      "cell_type": "markdown",
      "metadata": {},
      "source": [
        "# Data cleaning"
      ]
    },
    {
      "cell_type": "code",
      "execution_count": 6,
      "metadata": {
        "id": "foMaEDj1W5lu"
      },
      "outputs": [],
      "source": [
        "movie=movie.drop(columns=['Unnamed: 0']) # removing the unnecessary columns"
      ]
    },
    {
      "cell_type": "code",
      "execution_count": 7,
      "metadata": {
        "colab": {
          "base_uri": "https://localhost:8080/"
        },
        "id": "X1xk3kcQW5iI",
        "outputId": "96adf31b-aedc-4d31-c926-68dbb343f5d9"
      },
      "outputs": [],
      "source": [
        "movie['Age']=movie['Age'].fillna(movie['Age'].mode()[0])\n",
        "movie['IMDb']=movie['IMDb'].fillna(movie['IMDb'].mean()).round(1)\n",
        "\n",
        "movie['Rotten Tomatoes']=movie['Rotten Tomatoes'].str.strip('%')\n",
        "movie['Rotten Tomatoes']=movie['Rotten Tomatoes'].astype(float)\n",
        "movie['Rotten Tomatoes']=(movie['Rotten Tomatoes'].fillna(movie['Rotten Tomatoes'].mean())/10).round(1)"
      ]
    },
    {
      "cell_type": "code",
      "execution_count": 8,
      "metadata": {
        "colab": {
          "base_uri": "https://localhost:8080/"
        },
        "id": "q6bnIHMlW5cu",
        "outputId": "29d5792b-3c4c-45a8-944b-2b7213cea233"
      },
      "outputs": [],
      "source": [
        "movie['Directors']=movie['Directors'].fillna('unknown')\n",
        "movie['Genres']=movie['Genres'].fillna('unknown')\n",
        "movie['Country']=movie['Country'].fillna('unknown')\n",
        "movie['Language']=movie['Language'].fillna('unknown')\n",
        "movie['Runtime']=movie['Runtime'].fillna(movie['Runtime'].mean())"
      ]
    },
    {
      "cell_type": "code",
      "execution_count": 9,
      "metadata": {
        "colab": {
          "base_uri": "https://localhost:8080/"
        },
        "id": "GuuDHulEW5V0",
        "outputId": "b85713bc-aa99-4235-b32d-506a1a141663"
      },
      "outputs": [
        {
          "name": "stdout",
          "output_type": "stream",
          "text": [
            "<class 'pandas.core.frame.DataFrame'>\n",
            "RangeIndex: 16744 entries, 0 to 16743\n",
            "Data columns (total 16 columns):\n",
            " #   Column           Non-Null Count  Dtype  \n",
            "---  ------           --------------  -----  \n",
            " 0   ID               16744 non-null  int64  \n",
            " 1   Title            16744 non-null  object \n",
            " 2   Year             16744 non-null  int64  \n",
            " 3   Age              16744 non-null  object \n",
            " 4   IMDb             16744 non-null  float64\n",
            " 5   Rotten Tomatoes  16744 non-null  float64\n",
            " 6   Netflix          16744 non-null  int64  \n",
            " 7   Hulu             16744 non-null  int64  \n",
            " 8   Prime Video      16744 non-null  int64  \n",
            " 9   Disney+          16744 non-null  int64  \n",
            " 10  Type             16744 non-null  int64  \n",
            " 11  Directors        16744 non-null  object \n",
            " 12  Genres           16744 non-null  object \n",
            " 13  Country          16744 non-null  object \n",
            " 14  Language         16744 non-null  object \n",
            " 15  Runtime          16744 non-null  float64\n",
            "dtypes: float64(3), int64(7), object(6)\n",
            "memory usage: 2.0+ MB\n"
          ]
        }
      ],
      "source": [
        "movie.info()"
      ]
    },
    {
      "cell_type": "code",
      "execution_count": 10,
      "metadata": {
        "colab": {
          "base_uri": "https://localhost:8080/",
          "height": 112
        },
        "id": "EfalVzruWoes",
        "outputId": "8f96fb80-54ca-4ffb-c2f8-9cdc18e65c4d"
      },
      "outputs": [
        {
          "data": {
            "text/html": [
              "<div>\n",
              "<style scoped>\n",
              "    .dataframe tbody tr th:only-of-type {\n",
              "        vertical-align: middle;\n",
              "    }\n",
              "\n",
              "    .dataframe tbody tr th {\n",
              "        vertical-align: top;\n",
              "    }\n",
              "\n",
              "    .dataframe thead th {\n",
              "        text-align: right;\n",
              "    }\n",
              "</style>\n",
              "<table border=\"1\" class=\"dataframe\">\n",
              "  <thead>\n",
              "    <tr style=\"text-align: right;\">\n",
              "      <th></th>\n",
              "      <th>ID</th>\n",
              "      <th>Title</th>\n",
              "      <th>Year</th>\n",
              "      <th>Age</th>\n",
              "      <th>IMDb</th>\n",
              "      <th>Rotten Tomatoes</th>\n",
              "      <th>Netflix</th>\n",
              "      <th>Hulu</th>\n",
              "      <th>Prime Video</th>\n",
              "      <th>Disney+</th>\n",
              "      <th>Type</th>\n",
              "      <th>Directors</th>\n",
              "      <th>Genres</th>\n",
              "      <th>Country</th>\n",
              "      <th>Language</th>\n",
              "      <th>Runtime</th>\n",
              "    </tr>\n",
              "  </thead>\n",
              "  <tbody>\n",
              "    <tr>\n",
              "      <th>0</th>\n",
              "      <td>1</td>\n",
              "      <td>Inception</td>\n",
              "      <td>2010</td>\n",
              "      <td>13+</td>\n",
              "      <td>8.8</td>\n",
              "      <td>8.7</td>\n",
              "      <td>1</td>\n",
              "      <td>0</td>\n",
              "      <td>0</td>\n",
              "      <td>0</td>\n",
              "      <td>0</td>\n",
              "      <td>Christopher Nolan</td>\n",
              "      <td>Action,Adventure,Sci-Fi,Thriller</td>\n",
              "      <td>United States,United Kingdom</td>\n",
              "      <td>English,Japanese,French</td>\n",
              "      <td>148.0</td>\n",
              "    </tr>\n",
              "    <tr>\n",
              "      <th>1</th>\n",
              "      <td>2</td>\n",
              "      <td>The Matrix</td>\n",
              "      <td>1999</td>\n",
              "      <td>18+</td>\n",
              "      <td>8.7</td>\n",
              "      <td>8.7</td>\n",
              "      <td>1</td>\n",
              "      <td>0</td>\n",
              "      <td>0</td>\n",
              "      <td>0</td>\n",
              "      <td>0</td>\n",
              "      <td>Lana Wachowski,Lilly Wachowski</td>\n",
              "      <td>Action,Sci-Fi</td>\n",
              "      <td>United States</td>\n",
              "      <td>English</td>\n",
              "      <td>136.0</td>\n",
              "    </tr>\n",
              "  </tbody>\n",
              "</table>\n",
              "</div>"
            ],
            "text/plain": [
              "   ID       Title  Year  Age  IMDb  Rotten Tomatoes  Netflix  Hulu  \\\n",
              "0   1   Inception  2010  13+   8.8              8.7        1     0   \n",
              "1   2  The Matrix  1999  18+   8.7              8.7        1     0   \n",
              "\n",
              "   Prime Video  Disney+  Type                       Directors  \\\n",
              "0            0        0     0               Christopher Nolan   \n",
              "1            0        0     0  Lana Wachowski,Lilly Wachowski   \n",
              "\n",
              "                             Genres                       Country  \\\n",
              "0  Action,Adventure,Sci-Fi,Thriller  United States,United Kingdom   \n",
              "1                     Action,Sci-Fi                 United States   \n",
              "\n",
              "                  Language  Runtime  \n",
              "0  English,Japanese,French    148.0  \n",
              "1                  English    136.0  "
            ]
          },
          "execution_count": 10,
          "metadata": {},
          "output_type": "execute_result"
        }
      ],
      "source": [
        "movie.head(2)"
      ]
    },
    {
      "cell_type": "code",
      "execution_count": 84,
      "metadata": {
        "colab": {
          "base_uri": "https://localhost:8080/",
          "height": 424
        },
        "id": "_WRJZRWHWq3K",
        "outputId": "8425678b-9cf9-4378-af42-2847324e43c1"
      },
      "outputs": [
        {
          "data": {
            "text/html": [
              "<div>\n",
              "<style scoped>\n",
              "    .dataframe tbody tr th:only-of-type {\n",
              "        vertical-align: middle;\n",
              "    }\n",
              "\n",
              "    .dataframe tbody tr th {\n",
              "        vertical-align: top;\n",
              "    }\n",
              "\n",
              "    .dataframe thead th {\n",
              "        text-align: right;\n",
              "    }\n",
              "</style>\n",
              "<table border=\"1\" class=\"dataframe\">\n",
              "  <thead>\n",
              "    <tr style=\"text-align: right;\">\n",
              "      <th></th>\n",
              "      <th>Title</th>\n",
              "      <th>IMDb</th>\n",
              "      <th>Runtime</th>\n",
              "      <th>Genres</th>\n",
              "    </tr>\n",
              "  </thead>\n",
              "  <tbody>\n",
              "    <tr>\n",
              "      <th>0</th>\n",
              "      <td>Inception</td>\n",
              "      <td>8.8</td>\n",
              "      <td>148.0</td>\n",
              "      <td>Action</td>\n",
              "    </tr>\n",
              "    <tr>\n",
              "      <th>0</th>\n",
              "      <td>Inception</td>\n",
              "      <td>8.8</td>\n",
              "      <td>148.0</td>\n",
              "      <td>Adventure</td>\n",
              "    </tr>\n",
              "    <tr>\n",
              "      <th>0</th>\n",
              "      <td>Inception</td>\n",
              "      <td>8.8</td>\n",
              "      <td>148.0</td>\n",
              "      <td>Sci-Fi</td>\n",
              "    </tr>\n",
              "    <tr>\n",
              "      <th>0</th>\n",
              "      <td>Inception</td>\n",
              "      <td>8.8</td>\n",
              "      <td>148.0</td>\n",
              "      <td>Thriller</td>\n",
              "    </tr>\n",
              "    <tr>\n",
              "      <th>1</th>\n",
              "      <td>The Matrix</td>\n",
              "      <td>8.7</td>\n",
              "      <td>136.0</td>\n",
              "      <td>Action</td>\n",
              "    </tr>\n",
              "  </tbody>\n",
              "</table>\n",
              "</div>"
            ],
            "text/plain": [
              "        Title  IMDb  Runtime     Genres\n",
              "0   Inception   8.8    148.0     Action\n",
              "0   Inception   8.8    148.0  Adventure\n",
              "0   Inception   8.8    148.0     Sci-Fi\n",
              "0   Inception   8.8    148.0   Thriller\n",
              "1  The Matrix   8.7    136.0     Action"
            ]
          },
          "execution_count": 84,
          "metadata": {},
          "output_type": "execute_result"
        }
      ],
      "source": [
        "x=movie['Genres'].str.split(',')\n",
        "Genres=x.explode()\n",
        "\n",
        "Genres_df=pd.merge(movie[['Title','IMDb','Runtime']],Genres,left_index=True,right_index=True)\n",
        "Genres_df.head()"
      ]
    },
    {
      "cell_type": "code",
      "execution_count": 12,
      "metadata": {
        "id": "cH-8-_nCWqzi"
      },
      "outputs": [
        {
          "data": {
            "text/html": [
              "<div>\n",
              "<style scoped>\n",
              "    .dataframe tbody tr th:only-of-type {\n",
              "        vertical-align: middle;\n",
              "    }\n",
              "\n",
              "    .dataframe tbody tr th {\n",
              "        vertical-align: top;\n",
              "    }\n",
              "\n",
              "    .dataframe thead th {\n",
              "        text-align: right;\n",
              "    }\n",
              "</style>\n",
              "<table border=\"1\" class=\"dataframe\">\n",
              "  <thead>\n",
              "    <tr style=\"text-align: right;\">\n",
              "      <th></th>\n",
              "      <th>Title</th>\n",
              "      <th>IMDb</th>\n",
              "      <th>Language</th>\n",
              "    </tr>\n",
              "  </thead>\n",
              "  <tbody>\n",
              "    <tr>\n",
              "      <th>0</th>\n",
              "      <td>Inception</td>\n",
              "      <td>8.8</td>\n",
              "      <td>English</td>\n",
              "    </tr>\n",
              "    <tr>\n",
              "      <th>0</th>\n",
              "      <td>Inception</td>\n",
              "      <td>8.8</td>\n",
              "      <td>Japanese</td>\n",
              "    </tr>\n",
              "    <tr>\n",
              "      <th>0</th>\n",
              "      <td>Inception</td>\n",
              "      <td>8.8</td>\n",
              "      <td>French</td>\n",
              "    </tr>\n",
              "    <tr>\n",
              "      <th>1</th>\n",
              "      <td>The Matrix</td>\n",
              "      <td>8.7</td>\n",
              "      <td>English</td>\n",
              "    </tr>\n",
              "    <tr>\n",
              "      <th>2</th>\n",
              "      <td>Avengers: Infinity War</td>\n",
              "      <td>8.5</td>\n",
              "      <td>English</td>\n",
              "    </tr>\n",
              "  </tbody>\n",
              "</table>\n",
              "</div>"
            ],
            "text/plain": [
              "                    Title  IMDb  Language\n",
              "0               Inception   8.8   English\n",
              "0               Inception   8.8  Japanese\n",
              "0               Inception   8.8    French\n",
              "1              The Matrix   8.7   English\n",
              "2  Avengers: Infinity War   8.5   English"
            ]
          },
          "execution_count": 12,
          "metadata": {},
          "output_type": "execute_result"
        }
      ],
      "source": [
        "# Splitting 'Language' column where multiple languages are separated by commas\n",
        "language_split = movie['Language'].str.split(',')\n",
        "Languages = language_split.explode()\n",
        "\n",
        "# Creating a DataFrame with Title, IMDb, and Language\n",
        "Languages_df = pd.merge(movie[['Title', 'IMDb']], Languages, left_index=True, right_index=True)\n",
        "Languages_df.head()\n"
      ]
    },
    {
      "cell_type": "code",
      "execution_count": 94,
      "metadata": {
        "id": "xa-n0DArWqxL"
      },
      "outputs": [
        {
          "data": {
            "text/html": [
              "<div>\n",
              "<style scoped>\n",
              "    .dataframe tbody tr th:only-of-type {\n",
              "        vertical-align: middle;\n",
              "    }\n",
              "\n",
              "    .dataframe tbody tr th {\n",
              "        vertical-align: top;\n",
              "    }\n",
              "\n",
              "    .dataframe thead th {\n",
              "        text-align: right;\n",
              "    }\n",
              "</style>\n",
              "<table border=\"1\" class=\"dataframe\">\n",
              "  <thead>\n",
              "    <tr style=\"text-align: right;\">\n",
              "      <th></th>\n",
              "      <th>Title</th>\n",
              "      <th>IMDb</th>\n",
              "      <th>Runtime</th>\n",
              "      <th>Genres</th>\n",
              "      <th>Rotten Tomatoes</th>\n",
              "      <th>Platform</th>\n",
              "    </tr>\n",
              "  </thead>\n",
              "  <tbody>\n",
              "    <tr>\n",
              "      <th>0</th>\n",
              "      <td>Inception</td>\n",
              "      <td>8.8</td>\n",
              "      <td>148.0</td>\n",
              "      <td>Action,Adventure,Sci-Fi,Thriller</td>\n",
              "      <td>8.7</td>\n",
              "      <td>Netflix</td>\n",
              "    </tr>\n",
              "    <tr>\n",
              "      <th>1</th>\n",
              "      <td>The Matrix</td>\n",
              "      <td>8.7</td>\n",
              "      <td>136.0</td>\n",
              "      <td>Action,Sci-Fi</td>\n",
              "      <td>8.7</td>\n",
              "      <td>Netflix</td>\n",
              "    </tr>\n",
              "    <tr>\n",
              "      <th>2</th>\n",
              "      <td>Avengers: Infinity War</td>\n",
              "      <td>8.5</td>\n",
              "      <td>149.0</td>\n",
              "      <td>Action,Adventure,Sci-Fi</td>\n",
              "      <td>8.4</td>\n",
              "      <td>Netflix</td>\n",
              "    </tr>\n",
              "    <tr>\n",
              "      <th>3</th>\n",
              "      <td>Back to the Future</td>\n",
              "      <td>8.5</td>\n",
              "      <td>116.0</td>\n",
              "      <td>Adventure,Comedy,Sci-Fi</td>\n",
              "      <td>9.6</td>\n",
              "      <td>Netflix</td>\n",
              "    </tr>\n",
              "    <tr>\n",
              "      <th>4</th>\n",
              "      <td>The Good, the Bad and the Ugly</td>\n",
              "      <td>8.8</td>\n",
              "      <td>161.0</td>\n",
              "      <td>Western</td>\n",
              "      <td>9.7</td>\n",
              "      <td>Netflix</td>\n",
              "    </tr>\n",
              "  </tbody>\n",
              "</table>\n",
              "</div>"
            ],
            "text/plain": [
              "                            Title  IMDb  Runtime  \\\n",
              "0                       Inception   8.8    148.0   \n",
              "1                      The Matrix   8.7    136.0   \n",
              "2          Avengers: Infinity War   8.5    149.0   \n",
              "3              Back to the Future   8.5    116.0   \n",
              "4  The Good, the Bad and the Ugly   8.8    161.0   \n",
              "\n",
              "                             Genres  Rotten Tomatoes Platform  \n",
              "0  Action,Adventure,Sci-Fi,Thriller              8.7  Netflix  \n",
              "1                     Action,Sci-Fi              8.7  Netflix  \n",
              "2           Action,Adventure,Sci-Fi              8.4  Netflix  \n",
              "3           Adventure,Comedy,Sci-Fi              9.6  Netflix  \n",
              "4                           Western              9.7  Netflix  "
            ]
          },
          "execution_count": 94,
          "metadata": {},
          "output_type": "execute_result"
        }
      ],
      "source": [
        "# Melting the dataset to transform platform columns into rows\n",
        "Platforms_df = movie.melt(id_vars=['Title', 'IMDb','Runtime','Genres','Rotten Tomatoes'], \n",
        "                          value_vars=['Netflix', 'Hulu', 'Prime Video', 'Disney+'], \n",
        "                          var_name='Platform', \n",
        "                          value_name='Available')\n",
        "\n",
        "# Filtering out movies that are NOT available (Available == 0)\n",
        "Platforms_df = Platforms_df[Platforms_df['Available'] == 1].drop(columns=['Available'])\n",
        "\n",
        "Platforms_df.head()\n"
      ]
    },
    {
      "cell_type": "code",
      "execution_count": 14,
      "metadata": {
        "id": "6f-ljFaXWquW"
      },
      "outputs": [
        {
          "data": {
            "text/html": [
              "<div>\n",
              "<style scoped>\n",
              "    .dataframe tbody tr th:only-of-type {\n",
              "        vertical-align: middle;\n",
              "    }\n",
              "\n",
              "    .dataframe tbody tr th {\n",
              "        vertical-align: top;\n",
              "    }\n",
              "\n",
              "    .dataframe thead th {\n",
              "        text-align: right;\n",
              "    }\n",
              "</style>\n",
              "<table border=\"1\" class=\"dataframe\">\n",
              "  <thead>\n",
              "    <tr style=\"text-align: right;\">\n",
              "      <th></th>\n",
              "      <th>Title</th>\n",
              "      <th>IMDb</th>\n",
              "      <th>Directors</th>\n",
              "    </tr>\n",
              "  </thead>\n",
              "  <tbody>\n",
              "    <tr>\n",
              "      <th>0</th>\n",
              "      <td>Inception</td>\n",
              "      <td>8.8</td>\n",
              "      <td>Christopher Nolan</td>\n",
              "    </tr>\n",
              "    <tr>\n",
              "      <th>1</th>\n",
              "      <td>The Matrix</td>\n",
              "      <td>8.7</td>\n",
              "      <td>Lana Wachowski</td>\n",
              "    </tr>\n",
              "    <tr>\n",
              "      <th>1</th>\n",
              "      <td>The Matrix</td>\n",
              "      <td>8.7</td>\n",
              "      <td>Lilly Wachowski</td>\n",
              "    </tr>\n",
              "    <tr>\n",
              "      <th>2</th>\n",
              "      <td>Avengers: Infinity War</td>\n",
              "      <td>8.5</td>\n",
              "      <td>Anthony Russo</td>\n",
              "    </tr>\n",
              "    <tr>\n",
              "      <th>2</th>\n",
              "      <td>Avengers: Infinity War</td>\n",
              "      <td>8.5</td>\n",
              "      <td>Joe Russo</td>\n",
              "    </tr>\n",
              "  </tbody>\n",
              "</table>\n",
              "</div>"
            ],
            "text/plain": [
              "                    Title  IMDb          Directors\n",
              "0               Inception   8.8  Christopher Nolan\n",
              "1              The Matrix   8.7     Lana Wachowski\n",
              "1              The Matrix   8.7    Lilly Wachowski\n",
              "2  Avengers: Infinity War   8.5      Anthony Russo\n",
              "2  Avengers: Infinity War   8.5          Joe Russo"
            ]
          },
          "execution_count": 14,
          "metadata": {},
          "output_type": "execute_result"
        }
      ],
      "source": [
        "# Splitting 'Directors' column\n",
        "directors_split = movie['Directors'].str.split(',')\n",
        "Directors = directors_split.explode()\n",
        "\n",
        "# Creating Directors_df\n",
        "Directors_df = pd.merge(movie[['Title', 'IMDb']], Directors, left_index=True, right_index=True)\n",
        "Directors_df.head()"
      ]
    },
    {
      "cell_type": "code",
      "execution_count": 15,
      "metadata": {
        "id": "12Kqi4uWWqdE"
      },
      "outputs": [],
      "source": [
        "# Defining runtime categories\n",
        "bins = [0, 60, 120, 180, 300]  # (in minutes)\n",
        "labels = ['Short (<60 min)', 'Medium (60-120 min)', 'Long (120-180 min)', 'Very Long (>180 min)']\n",
        "movie['Runtime Category'] = pd.cut(movie['Runtime'], bins=bins, labels=labels, right=False)\n"
      ]
    },
    {
      "cell_type": "code",
      "execution_count": 16,
      "metadata": {
        "id": "cm1FQnxfWqXY"
      },
      "outputs": [
        {
          "data": {
            "text/html": [
              "<div>\n",
              "<style scoped>\n",
              "    .dataframe tbody tr th:only-of-type {\n",
              "        vertical-align: middle;\n",
              "    }\n",
              "\n",
              "    .dataframe tbody tr th {\n",
              "        vertical-align: top;\n",
              "    }\n",
              "\n",
              "    .dataframe thead th {\n",
              "        text-align: right;\n",
              "    }\n",
              "</style>\n",
              "<table border=\"1\" class=\"dataframe\">\n",
              "  <thead>\n",
              "    <tr style=\"text-align: right;\">\n",
              "      <th></th>\n",
              "      <th>ID</th>\n",
              "      <th>Title</th>\n",
              "      <th>Year</th>\n",
              "      <th>Age</th>\n",
              "      <th>IMDb</th>\n",
              "      <th>Rotten Tomatoes</th>\n",
              "      <th>Netflix</th>\n",
              "      <th>Hulu</th>\n",
              "      <th>Prime Video</th>\n",
              "      <th>Disney+</th>\n",
              "      <th>Type</th>\n",
              "      <th>Directors</th>\n",
              "      <th>Genres</th>\n",
              "      <th>Country</th>\n",
              "      <th>Language</th>\n",
              "      <th>Runtime</th>\n",
              "      <th>Runtime Category</th>\n",
              "    </tr>\n",
              "  </thead>\n",
              "  <tbody>\n",
              "    <tr>\n",
              "      <th>0</th>\n",
              "      <td>1</td>\n",
              "      <td>Inception</td>\n",
              "      <td>2010</td>\n",
              "      <td>13+</td>\n",
              "      <td>8.8</td>\n",
              "      <td>8.7</td>\n",
              "      <td>1</td>\n",
              "      <td>0</td>\n",
              "      <td>0</td>\n",
              "      <td>0</td>\n",
              "      <td>0</td>\n",
              "      <td>Christopher Nolan</td>\n",
              "      <td>Action,Adventure,Sci-Fi,Thriller</td>\n",
              "      <td>United States,United Kingdom</td>\n",
              "      <td>English,Japanese,French</td>\n",
              "      <td>148.000000</td>\n",
              "      <td>Long (120-180 min)</td>\n",
              "    </tr>\n",
              "    <tr>\n",
              "      <th>1</th>\n",
              "      <td>2</td>\n",
              "      <td>The Matrix</td>\n",
              "      <td>1999</td>\n",
              "      <td>18+</td>\n",
              "      <td>8.7</td>\n",
              "      <td>8.7</td>\n",
              "      <td>1</td>\n",
              "      <td>0</td>\n",
              "      <td>0</td>\n",
              "      <td>0</td>\n",
              "      <td>0</td>\n",
              "      <td>Lana Wachowski,Lilly Wachowski</td>\n",
              "      <td>Action,Sci-Fi</td>\n",
              "      <td>United States</td>\n",
              "      <td>English</td>\n",
              "      <td>136.000000</td>\n",
              "      <td>Long (120-180 min)</td>\n",
              "    </tr>\n",
              "    <tr>\n",
              "      <th>2</th>\n",
              "      <td>3</td>\n",
              "      <td>Avengers: Infinity War</td>\n",
              "      <td>2018</td>\n",
              "      <td>13+</td>\n",
              "      <td>8.5</td>\n",
              "      <td>8.4</td>\n",
              "      <td>1</td>\n",
              "      <td>0</td>\n",
              "      <td>0</td>\n",
              "      <td>0</td>\n",
              "      <td>0</td>\n",
              "      <td>Anthony Russo,Joe Russo</td>\n",
              "      <td>Action,Adventure,Sci-Fi</td>\n",
              "      <td>United States</td>\n",
              "      <td>English</td>\n",
              "      <td>149.000000</td>\n",
              "      <td>Long (120-180 min)</td>\n",
              "    </tr>\n",
              "    <tr>\n",
              "      <th>3</th>\n",
              "      <td>4</td>\n",
              "      <td>Back to the Future</td>\n",
              "      <td>1985</td>\n",
              "      <td>7+</td>\n",
              "      <td>8.5</td>\n",
              "      <td>9.6</td>\n",
              "      <td>1</td>\n",
              "      <td>0</td>\n",
              "      <td>0</td>\n",
              "      <td>0</td>\n",
              "      <td>0</td>\n",
              "      <td>Robert Zemeckis</td>\n",
              "      <td>Adventure,Comedy,Sci-Fi</td>\n",
              "      <td>United States</td>\n",
              "      <td>English</td>\n",
              "      <td>116.000000</td>\n",
              "      <td>Medium (60-120 min)</td>\n",
              "    </tr>\n",
              "    <tr>\n",
              "      <th>4</th>\n",
              "      <td>5</td>\n",
              "      <td>The Good, the Bad and the Ugly</td>\n",
              "      <td>1966</td>\n",
              "      <td>18+</td>\n",
              "      <td>8.8</td>\n",
              "      <td>9.7</td>\n",
              "      <td>1</td>\n",
              "      <td>0</td>\n",
              "      <td>1</td>\n",
              "      <td>0</td>\n",
              "      <td>0</td>\n",
              "      <td>Sergio Leone</td>\n",
              "      <td>Western</td>\n",
              "      <td>Italy,Spain,West Germany</td>\n",
              "      <td>Italian</td>\n",
              "      <td>161.000000</td>\n",
              "      <td>Long (120-180 min)</td>\n",
              "    </tr>\n",
              "    <tr>\n",
              "      <th>...</th>\n",
              "      <td>...</td>\n",
              "      <td>...</td>\n",
              "      <td>...</td>\n",
              "      <td>...</td>\n",
              "      <td>...</td>\n",
              "      <td>...</td>\n",
              "      <td>...</td>\n",
              "      <td>...</td>\n",
              "      <td>...</td>\n",
              "      <td>...</td>\n",
              "      <td>...</td>\n",
              "      <td>...</td>\n",
              "      <td>...</td>\n",
              "      <td>...</td>\n",
              "      <td>...</td>\n",
              "      <td>...</td>\n",
              "      <td>...</td>\n",
              "    </tr>\n",
              "    <tr>\n",
              "      <th>16739</th>\n",
              "      <td>16740</td>\n",
              "      <td>The Ghosts of Buxley Hall</td>\n",
              "      <td>1980</td>\n",
              "      <td>18+</td>\n",
              "      <td>6.2</td>\n",
              "      <td>6.5</td>\n",
              "      <td>0</td>\n",
              "      <td>0</td>\n",
              "      <td>0</td>\n",
              "      <td>1</td>\n",
              "      <td>0</td>\n",
              "      <td>Bruce Bilson</td>\n",
              "      <td>Comedy,Family,Fantasy,Horror</td>\n",
              "      <td>United States</td>\n",
              "      <td>English</td>\n",
              "      <td>120.000000</td>\n",
              "      <td>Long (120-180 min)</td>\n",
              "    </tr>\n",
              "    <tr>\n",
              "      <th>16740</th>\n",
              "      <td>16741</td>\n",
              "      <td>The Poof Point</td>\n",
              "      <td>2001</td>\n",
              "      <td>7+</td>\n",
              "      <td>4.7</td>\n",
              "      <td>6.5</td>\n",
              "      <td>0</td>\n",
              "      <td>0</td>\n",
              "      <td>0</td>\n",
              "      <td>1</td>\n",
              "      <td>0</td>\n",
              "      <td>Neal Israel</td>\n",
              "      <td>Comedy,Family,Sci-Fi</td>\n",
              "      <td>United States</td>\n",
              "      <td>English</td>\n",
              "      <td>90.000000</td>\n",
              "      <td>Medium (60-120 min)</td>\n",
              "    </tr>\n",
              "    <tr>\n",
              "      <th>16741</th>\n",
              "      <td>16742</td>\n",
              "      <td>Sharks of Lost Island</td>\n",
              "      <td>2013</td>\n",
              "      <td>18+</td>\n",
              "      <td>5.7</td>\n",
              "      <td>6.5</td>\n",
              "      <td>0</td>\n",
              "      <td>0</td>\n",
              "      <td>0</td>\n",
              "      <td>1</td>\n",
              "      <td>0</td>\n",
              "      <td>Neil Gelinas</td>\n",
              "      <td>Documentary</td>\n",
              "      <td>United States</td>\n",
              "      <td>English</td>\n",
              "      <td>93.413447</td>\n",
              "      <td>Medium (60-120 min)</td>\n",
              "    </tr>\n",
              "    <tr>\n",
              "      <th>16742</th>\n",
              "      <td>16743</td>\n",
              "      <td>Man Among Cheetahs</td>\n",
              "      <td>2017</td>\n",
              "      <td>18+</td>\n",
              "      <td>6.6</td>\n",
              "      <td>6.5</td>\n",
              "      <td>0</td>\n",
              "      <td>0</td>\n",
              "      <td>0</td>\n",
              "      <td>1</td>\n",
              "      <td>0</td>\n",
              "      <td>Richard Slater-Jones</td>\n",
              "      <td>Documentary</td>\n",
              "      <td>United States</td>\n",
              "      <td>English</td>\n",
              "      <td>93.413447</td>\n",
              "      <td>Medium (60-120 min)</td>\n",
              "    </tr>\n",
              "    <tr>\n",
              "      <th>16743</th>\n",
              "      <td>16744</td>\n",
              "      <td>In Beaver Valley</td>\n",
              "      <td>1950</td>\n",
              "      <td>18+</td>\n",
              "      <td>5.9</td>\n",
              "      <td>6.5</td>\n",
              "      <td>0</td>\n",
              "      <td>0</td>\n",
              "      <td>0</td>\n",
              "      <td>1</td>\n",
              "      <td>0</td>\n",
              "      <td>James Algar</td>\n",
              "      <td>Documentary,Short,Family</td>\n",
              "      <td>United States</td>\n",
              "      <td>English</td>\n",
              "      <td>32.000000</td>\n",
              "      <td>Short (&lt;60 min)</td>\n",
              "    </tr>\n",
              "  </tbody>\n",
              "</table>\n",
              "<p>16744 rows × 17 columns</p>\n",
              "</div>"
            ],
            "text/plain": [
              "          ID                           Title  Year  Age  IMDb  \\\n",
              "0          1                       Inception  2010  13+   8.8   \n",
              "1          2                      The Matrix  1999  18+   8.7   \n",
              "2          3          Avengers: Infinity War  2018  13+   8.5   \n",
              "3          4              Back to the Future  1985   7+   8.5   \n",
              "4          5  The Good, the Bad and the Ugly  1966  18+   8.8   \n",
              "...      ...                             ...   ...  ...   ...   \n",
              "16739  16740       The Ghosts of Buxley Hall  1980  18+   6.2   \n",
              "16740  16741                  The Poof Point  2001   7+   4.7   \n",
              "16741  16742           Sharks of Lost Island  2013  18+   5.7   \n",
              "16742  16743              Man Among Cheetahs  2017  18+   6.6   \n",
              "16743  16744                In Beaver Valley  1950  18+   5.9   \n",
              "\n",
              "       Rotten Tomatoes  Netflix  Hulu  Prime Video  Disney+  Type  \\\n",
              "0                  8.7        1     0            0        0     0   \n",
              "1                  8.7        1     0            0        0     0   \n",
              "2                  8.4        1     0            0        0     0   \n",
              "3                  9.6        1     0            0        0     0   \n",
              "4                  9.7        1     0            1        0     0   \n",
              "...                ...      ...   ...          ...      ...   ...   \n",
              "16739              6.5        0     0            0        1     0   \n",
              "16740              6.5        0     0            0        1     0   \n",
              "16741              6.5        0     0            0        1     0   \n",
              "16742              6.5        0     0            0        1     0   \n",
              "16743              6.5        0     0            0        1     0   \n",
              "\n",
              "                            Directors                            Genres  \\\n",
              "0                   Christopher Nolan  Action,Adventure,Sci-Fi,Thriller   \n",
              "1      Lana Wachowski,Lilly Wachowski                     Action,Sci-Fi   \n",
              "2             Anthony Russo,Joe Russo           Action,Adventure,Sci-Fi   \n",
              "3                     Robert Zemeckis           Adventure,Comedy,Sci-Fi   \n",
              "4                        Sergio Leone                           Western   \n",
              "...                               ...                               ...   \n",
              "16739                    Bruce Bilson      Comedy,Family,Fantasy,Horror   \n",
              "16740                     Neal Israel              Comedy,Family,Sci-Fi   \n",
              "16741                    Neil Gelinas                       Documentary   \n",
              "16742            Richard Slater-Jones                       Documentary   \n",
              "16743                     James Algar          Documentary,Short,Family   \n",
              "\n",
              "                            Country                 Language     Runtime  \\\n",
              "0      United States,United Kingdom  English,Japanese,French  148.000000   \n",
              "1                     United States                  English  136.000000   \n",
              "2                     United States                  English  149.000000   \n",
              "3                     United States                  English  116.000000   \n",
              "4          Italy,Spain,West Germany                  Italian  161.000000   \n",
              "...                             ...                      ...         ...   \n",
              "16739                 United States                  English  120.000000   \n",
              "16740                 United States                  English   90.000000   \n",
              "16741                 United States                  English   93.413447   \n",
              "16742                 United States                  English   93.413447   \n",
              "16743                 United States                  English   32.000000   \n",
              "\n",
              "          Runtime Category  \n",
              "0       Long (120-180 min)  \n",
              "1       Long (120-180 min)  \n",
              "2       Long (120-180 min)  \n",
              "3      Medium (60-120 min)  \n",
              "4       Long (120-180 min)  \n",
              "...                    ...  \n",
              "16739   Long (120-180 min)  \n",
              "16740  Medium (60-120 min)  \n",
              "16741  Medium (60-120 min)  \n",
              "16742  Medium (60-120 min)  \n",
              "16743      Short (<60 min)  \n",
              "\n",
              "[16744 rows x 17 columns]"
            ]
          },
          "execution_count": 16,
          "metadata": {},
          "output_type": "execute_result"
        }
      ],
      "source": [
        "movie"
      ]
    },
    {
      "cell_type": "markdown",
      "metadata": {},
      "source": [
        "# DATA ANALYSIS"
      ]
    },
    {
      "cell_type": "markdown",
      "metadata": {},
      "source": [
        " # How many unique movies are in the dataset?"
      ]
    },
    {
      "cell_type": "code",
      "execution_count": 17,
      "metadata": {},
      "outputs": [
        {
          "data": {
            "text/plain": [
              "array(['Inception', 'The Matrix', 'Avengers: Infinity War', ...,\n",
              "       'Sharks of Lost Island', 'Man Among Cheetahs', 'In Beaver Valley'],\n",
              "      shape=(16744,), dtype=object)"
            ]
          },
          "execution_count": 17,
          "metadata": {},
          "output_type": "execute_result"
        }
      ],
      "source": [
        "unique_movie=pd.unique(movie['Title'])\n",
        "\n",
        "unique_movie\n"
      ]
    },
    {
      "cell_type": "markdown",
      "metadata": {},
      "source": [
        " # What is the average IMDb rating of all movies?"
      ]
    },
    {
      "cell_type": "code",
      "execution_count": 18,
      "metadata": {},
      "outputs": [
        {
          "data": {
            "text/plain": [
              "np.float64(5.902657668418538)"
            ]
          },
          "execution_count": 18,
          "metadata": {},
          "output_type": "execute_result"
        }
      ],
      "source": [
        "imdb_avg= movie['IMDb'].mean()\n",
        "imdb_avg"
      ]
    },
    {
      "cell_type": "markdown",
      "metadata": {},
      "source": [
        "# How many movies were released each year?"
      ]
    },
    {
      "cell_type": "code",
      "execution_count": 19,
      "metadata": {},
      "outputs": [
        {
          "data": {
            "text/html": [
              "<div>\n",
              "<style scoped>\n",
              "    .dataframe tbody tr th:only-of-type {\n",
              "        vertical-align: middle;\n",
              "    }\n",
              "\n",
              "    .dataframe tbody tr th {\n",
              "        vertical-align: top;\n",
              "    }\n",
              "\n",
              "    .dataframe thead th {\n",
              "        text-align: right;\n",
              "    }\n",
              "</style>\n",
              "<table border=\"1\" class=\"dataframe\">\n",
              "  <thead>\n",
              "    <tr style=\"text-align: right;\">\n",
              "      <th></th>\n",
              "      <th>Title</th>\n",
              "    </tr>\n",
              "    <tr>\n",
              "      <th>Year</th>\n",
              "      <th></th>\n",
              "    </tr>\n",
              "  </thead>\n",
              "  <tbody>\n",
              "    <tr>\n",
              "      <th>1902</th>\n",
              "      <td>1</td>\n",
              "    </tr>\n",
              "    <tr>\n",
              "      <th>1912</th>\n",
              "      <td>1</td>\n",
              "    </tr>\n",
              "    <tr>\n",
              "      <th>1913</th>\n",
              "      <td>2</td>\n",
              "    </tr>\n",
              "    <tr>\n",
              "      <th>1915</th>\n",
              "      <td>4</td>\n",
              "    </tr>\n",
              "    <tr>\n",
              "      <th>1916</th>\n",
              "      <td>1</td>\n",
              "    </tr>\n",
              "    <tr>\n",
              "      <th>...</th>\n",
              "      <td>...</td>\n",
              "    </tr>\n",
              "    <tr>\n",
              "      <th>2016</th>\n",
              "      <td>1206</td>\n",
              "    </tr>\n",
              "    <tr>\n",
              "      <th>2017</th>\n",
              "      <td>1401</td>\n",
              "    </tr>\n",
              "    <tr>\n",
              "      <th>2018</th>\n",
              "      <td>1285</td>\n",
              "    </tr>\n",
              "    <tr>\n",
              "      <th>2019</th>\n",
              "      <td>689</td>\n",
              "    </tr>\n",
              "    <tr>\n",
              "      <th>2020</th>\n",
              "      <td>147</td>\n",
              "    </tr>\n",
              "  </tbody>\n",
              "</table>\n",
              "<p>109 rows × 1 columns</p>\n",
              "</div>"
            ],
            "text/plain": [
              "      Title\n",
              "Year       \n",
              "1902      1\n",
              "1912      1\n",
              "1913      2\n",
              "1915      4\n",
              "1916      1\n",
              "...     ...\n",
              "2016   1206\n",
              "2017   1401\n",
              "2018   1285\n",
              "2019    689\n",
              "2020    147\n",
              "\n",
              "[109 rows x 1 columns]"
            ]
          },
          "execution_count": 19,
          "metadata": {},
          "output_type": "execute_result"
        }
      ],
      "source": [
        "year_grp=movie.groupby('Year')\n",
        "year_grp.agg({'Title':'count'})"
      ]
    },
    {
      "cell_type": "markdown",
      "metadata": {},
      "source": [
        "# What is the most common genre in the dataset?"
      ]
    },
    {
      "cell_type": "code",
      "execution_count": 20,
      "metadata": {},
      "outputs": [
        {
          "data": {
            "text/plain": [
              "'Drama'"
            ]
          },
          "execution_count": 20,
          "metadata": {},
          "output_type": "execute_result"
        }
      ],
      "source": [
        "mode_genre=movie['Genres'].mode()[0]\n",
        "mode_genre"
      ]
    },
    {
      "cell_type": "markdown",
      "metadata": {},
      "source": [
        " # What is the most common language for movies?"
      ]
    },
    {
      "cell_type": "code",
      "execution_count": 21,
      "metadata": {},
      "outputs": [
        {
          "data": {
            "text/plain": [
              "'English'"
            ]
          },
          "execution_count": 21,
          "metadata": {},
          "output_type": "execute_result"
        }
      ],
      "source": [
        "mode_lang=movie['Language'].mode()[0]\n",
        "mode_lang"
      ]
    },
    {
      "cell_type": "markdown",
      "metadata": {},
      "source": [
        "# How many movies are available on each streaming platform?"
      ]
    },
    {
      "cell_type": "code",
      "execution_count": 22,
      "metadata": {},
      "outputs": [
        {
          "name": "stdout",
          "output_type": "stream",
          "text": [
            "3560\n",
            "903\n",
            "12354\n",
            "564\n"
          ]
        }
      ],
      "source": [
        "netflix_movie=movie['Netflix'].sum()\n",
        "Hulu_movie=movie['Hulu'].sum()\n",
        "PrimeVideo_movie=movie['Prime Video'].sum()\n",
        "Disney_movie=movie['Disney+'].sum()\n",
        "\n",
        "print(netflix_movie)\n",
        "print(Hulu_movie)\n",
        "print(PrimeVideo_movie)\n",
        "print(Disney_movie)"
      ]
    },
    {
      "cell_type": "code",
      "execution_count": 23,
      "metadata": {},
      "outputs": [
        {
          "data": {
            "text/plain": [
              "Netflix         3560\n",
              "Hulu             903\n",
              "Disney+          564\n",
              "Prime Video    12354\n",
              "dtype: int64"
            ]
          },
          "execution_count": 23,
          "metadata": {},
          "output_type": "execute_result"
        }
      ],
      "source": [
        "movie[['Netflix','Hulu','Disney+','Prime Video']].sum()\n"
      ]
    },
    {
      "cell_type": "markdown",
      "metadata": {},
      "source": [
        "# Which platform has the highest average IMDb rating?"
      ]
    },
    {
      "cell_type": "code",
      "execution_count": 24,
      "metadata": {},
      "outputs": [
        {
          "data": {
            "text/plain": [
              "'Disney+'"
            ]
          },
          "execution_count": 24,
          "metadata": {},
          "output_type": "execute_result"
        }
      ],
      "source": [
        "Platforms_df.groupby('Platform')['IMDb'].mean().idxmax()"
      ]
    },
    {
      "cell_type": "markdown",
      "metadata": {},
      "source": [
        "# Are there any movies available on all four platforms (Netflix, Hulu, Prime Video, Disney+)?"
      ]
    },
    {
      "cell_type": "code",
      "execution_count": 25,
      "metadata": {},
      "outputs": [
        {
          "data": {
            "text/html": [
              "<div>\n",
              "<style scoped>\n",
              "    .dataframe tbody tr th:only-of-type {\n",
              "        vertical-align: middle;\n",
              "    }\n",
              "\n",
              "    .dataframe tbody tr th {\n",
              "        vertical-align: top;\n",
              "    }\n",
              "\n",
              "    .dataframe thead th {\n",
              "        text-align: right;\n",
              "    }\n",
              "</style>\n",
              "<table border=\"1\" class=\"dataframe\">\n",
              "  <thead>\n",
              "    <tr style=\"text-align: right;\">\n",
              "      <th></th>\n",
              "      <th>ID</th>\n",
              "      <th>Title</th>\n",
              "      <th>Year</th>\n",
              "      <th>Age</th>\n",
              "      <th>IMDb</th>\n",
              "      <th>Rotten Tomatoes</th>\n",
              "      <th>Netflix</th>\n",
              "      <th>Hulu</th>\n",
              "      <th>Prime Video</th>\n",
              "      <th>Disney+</th>\n",
              "      <th>Type</th>\n",
              "      <th>Directors</th>\n",
              "      <th>Genres</th>\n",
              "      <th>Country</th>\n",
              "      <th>Language</th>\n",
              "      <th>Runtime</th>\n",
              "      <th>Runtime Category</th>\n",
              "    </tr>\n",
              "  </thead>\n",
              "  <tbody>\n",
              "  </tbody>\n",
              "</table>\n",
              "</div>"
            ],
            "text/plain": [
              "Empty DataFrame\n",
              "Columns: [ID, Title, Year, Age, IMDb, Rotten Tomatoes, Netflix, Hulu, Prime Video, Disney+, Type, Directors, Genres, Country, Language, Runtime, Runtime Category]\n",
              "Index: []"
            ]
          },
          "execution_count": 25,
          "metadata": {},
          "output_type": "execute_result"
        }
      ],
      "source": [
        "c=movie[['Netflix','Hulu', 'Prime Video', 'Disney+']].sum(axis=1)\n",
        "movie[c==4]\n"
      ]
    },
    {
      "cell_type": "markdown",
      "metadata": {},
      "source": [
        "# Which platform has the most movies with an IMDb rating above 8.0?"
      ]
    },
    {
      "cell_type": "code",
      "execution_count": 26,
      "metadata": {},
      "outputs": [
        {
          "data": {
            "text/plain": [
              "'Prime Video'"
            ]
          },
          "execution_count": 26,
          "metadata": {},
          "output_type": "execute_result"
        }
      ],
      "source": [
        "Platforms_df[Platforms_df['IMDb'] > 8.0].groupby('Platform')['IMDb']. count().idxmax()"
      ]
    },
    {
      "cell_type": "markdown",
      "metadata": {},
      "source": [
        "# Which platform has the most movies released after 2015?"
      ]
    },
    {
      "cell_type": "code",
      "execution_count": 27,
      "metadata": {},
      "outputs": [
        {
          "data": {
            "text/plain": [
              "Netflix        2105\n",
              "Hulu            454\n",
              "Prime Video    2321\n",
              "Disney+          87\n",
              "dtype: int64"
            ]
          },
          "execution_count": 27,
          "metadata": {},
          "output_type": "execute_result"
        }
      ],
      "source": [
        "movie[movie['Year'] > 2015][['Netflix', 'Hulu', 'Prime Video', 'Disney+']].sum()"
      ]
    },
    {
      "cell_type": "markdown",
      "metadata": {},
      "source": [
        "# What are the top 5 genres with the most movies?"
      ]
    },
    {
      "cell_type": "code",
      "execution_count": 28,
      "metadata": {},
      "outputs": [
        {
          "data": {
            "text/plain": [
              "(0        \"22\" A film about Veterans, Healthcare and Sui...\n",
              " 1                                         #IMomSoHard Live\n",
              " 2                                                #LoveSwag\n",
              " 3                                                #Rucker50\n",
              " 4                                                  #Selfie\n",
              "                                ...                        \n",
              " 16739                              هجولة 2: المهمة الغامضة\n",
              " 16740                                         जान तेरे नाम\n",
              " 16741                                   ​Maj Rati ​​Keteki\n",
              " 16742                                                  审死官\n",
              " 16743                                                 워터댄스\n",
              " Name: Title, Length: 16744, dtype: object,\n",
              " 0    \"22\" A film about Veterans, Healthcare and Sui...\n",
              " 1                                     #IMomSoHard Live\n",
              " 2                                            #LoveSwag\n",
              " 3                                            #Rucker50\n",
              " 4                                              #Selfie\n",
              " Name: Title, dtype: object)"
            ]
          },
          "execution_count": 28,
          "metadata": {},
          "output_type": "execute_result"
        }
      ],
      "source": [
        "most_movie=(movie['Title'].mode()) \n",
        "mode_ka_head=most_movie.head()\n",
        "most_movie,mode_ka_head\n"
      ]
    },
    {
      "cell_type": "markdown",
      "metadata": {},
      "source": [
        "# Which genre has the highest average IMDb rating?"
      ]
    },
    {
      "cell_type": "code",
      "execution_count": 29,
      "metadata": {},
      "outputs": [
        {
          "data": {
            "text/plain": [
              "<bound method DataFrame.idxmax of                                                         IMDb\n",
              "Genres                                                      \n",
              "Action                                              4.886986\n",
              "Action,Adventure                                    4.972340\n",
              "Action,Adventure,Biography                          6.200000\n",
              "Action,Adventure,Biography,Drama,History            7.633333\n",
              "Action,Adventure,Biography,Drama,History,Romanc...  2.000000\n",
              "...                                                      ...\n",
              "Western,Comedy                                      4.050000\n",
              "Western,Horror                                      3.900000\n",
              "Western,Mystery                                     6.300000\n",
              "Western,War                                         5.200000\n",
              "unknown                                             5.975636\n",
              "\n",
              "[1910 rows x 1 columns]>"
            ]
          },
          "execution_count": 29,
          "metadata": {},
          "output_type": "execute_result"
        }
      ],
      "source": [
        "genere_grp= movie.groupby(['Genres'])\n",
        "genere_grp.agg({'IMDb':'mean'}).idxmax"
      ]
    },
    {
      "cell_type": "markdown",
      "metadata": {},
      "source": [
        "# What is the most popular genre on Netflix?"
      ]
    },
    {
      "cell_type": "code",
      "execution_count": 30,
      "metadata": {},
      "outputs": [
        {
          "data": {
            "text/plain": [
              "'Comedy'"
            ]
          },
          "execution_count": 30,
          "metadata": {},
          "output_type": "execute_result"
        }
      ],
      "source": [
        "netflix_mo = movie[movie['Netflix'] == 1]\n",
        "netflix_mo['Genres'].mode()[0]"
      ]
    },
    {
      "cell_type": "markdown",
      "metadata": {},
      "source": [
        "# How many movies in the Comedy genre have an IMDb rating above 7.5?"
      ]
    },
    {
      "cell_type": "code",
      "execution_count": 31,
      "metadata": {},
      "outputs": [
        {
          "data": {
            "text/plain": [
              "316"
            ]
          },
          "execution_count": 31,
          "metadata": {},
          "output_type": "execute_result"
        }
      ],
      "source": [
        "len(Genres_df[(Genres_df['Genres'] == 'Comedy') & (Genres_df['IMDb'] > 7.5)])"
      ]
    },
    {
      "cell_type": "markdown",
      "metadata": {},
      "source": [
        "# What is the average IMDb rating for Horror movies?"
      ]
    },
    {
      "cell_type": "code",
      "execution_count": 32,
      "metadata": {},
      "outputs": [
        {
          "data": {
            "text/plain": [
              "np.float64(4.29151376146789)"
            ]
          },
          "execution_count": 32,
          "metadata": {},
          "output_type": "execute_result"
        }
      ],
      "source": [
        "movie[movie['Genres'] == \"Horror\"]['IMDb'].mean()"
      ]
    },
    {
      "cell_type": "markdown",
      "metadata": {},
      "source": [
        "# Who are the top 5 directors with the most movies in the dataset?"
      ]
    },
    {
      "cell_type": "code",
      "execution_count": 33,
      "metadata": {},
      "outputs": [],
      "source": [
        "# grp_direc=movie.groupby(['Directors'])\n",
        "# grp_direc.agg({'Title':['count']}).head()\n",
        "\n",
        "\n",
        "# movie['Directors'].value_counts().head(5)"
      ]
    },
    {
      "cell_type": "code",
      "execution_count": 34,
      "metadata": {},
      "outputs": [
        {
          "data": {
            "text/plain": [
              "array(['Christopher Nolan', 'Lana Wachowski,Lilly Wachowski',\n",
              "       'Anthony Russo,Joe Russo', ..., 'Dereck Joubert', 'Bruce Bilson',\n",
              "       'Richard Slater-Jones'], shape=(11339,), dtype=object)"
            ]
          },
          "execution_count": 34,
          "metadata": {},
          "output_type": "execute_result"
        }
      ],
      "source": [
        "movie['Directors'].unique()"
      ]
    },
    {
      "cell_type": "markdown",
      "metadata": {},
      "source": [
        "# Which director has the highest average IMDb rating?"
      ]
    },
    {
      "cell_type": "code",
      "execution_count": 35,
      "metadata": {},
      "outputs": [
        {
          "data": {
            "text/plain": [
              "IMDb    Danny Wu\n",
              "dtype: object"
            ]
          },
          "execution_count": 35,
          "metadata": {},
          "output_type": "execute_result"
        }
      ],
      "source": [
        "groupof_direc=movie.groupby('Directors')\n",
        "groupof_direc.agg({'IMDb':'mean'}).idxmax()"
      ]
    },
    {
      "cell_type": "markdown",
      "metadata": {},
      "source": [
        "# Which director has made the most Action movies?"
      ]
    },
    {
      "cell_type": "code",
      "execution_count": 36,
      "metadata": {},
      "outputs": [
        {
          "data": {
            "text/plain": [
              "'Godfrey Ho'"
            ]
          },
          "execution_count": 36,
          "metadata": {},
          "output_type": "execute_result"
        }
      ],
      "source": [
        "movie[movie['Genres']=='Action']['Directors'].value_counts().idxmax()\n"
      ]
    },
    {
      "cell_type": "markdown",
      "metadata": {},
      "source": [
        "# What is the average IMDb rating of movies directed by Christopher Nolan?"
      ]
    },
    {
      "cell_type": "code",
      "execution_count": 37,
      "metadata": {},
      "outputs": [
        {
          "data": {
            "text/plain": [
              "np.float64(8.3)"
            ]
          },
          "execution_count": 37,
          "metadata": {},
          "output_type": "execute_result"
        }
      ],
      "source": [
        "movie[movie['Directors']=='Christopher Nolan']['IMDb'].mean()"
      ]
    },
    {
      "cell_type": "markdown",
      "metadata": {},
      "source": [
        "# How many movies by Steven Spielberg are available on Prime Video?\n"
      ]
    },
    {
      "cell_type": "code",
      "execution_count": 38,
      "metadata": {},
      "outputs": [
        {
          "data": {
            "text/plain": [
              "1"
            ]
          },
          "execution_count": 38,
          "metadata": {},
          "output_type": "execute_result"
        }
      ],
      "source": [
        "movie[(movie['Directors'] == \"Steven Spielberg\") & (movie['Prime Video'] == 1)].shape[0]"
      ]
    },
    {
      "cell_type": "markdown",
      "metadata": {},
      "source": [
        "# What are the top 5 most common languages in the dataset?\n"
      ]
    },
    {
      "cell_type": "code",
      "execution_count": 39,
      "metadata": {},
      "outputs": [
        {
          "data": {
            "text/plain": [
              "Language\n",
              "English    13233\n",
              "Spanish      872\n",
              "French       799\n",
              "Hindi        731\n",
              "unknown      614\n",
              "Name: count, dtype: int64"
            ]
          },
          "execution_count": 39,
          "metadata": {},
          "output_type": "execute_result"
        }
      ],
      "source": [
        "Languages_df['Language'].value_counts().head(5)"
      ]
    },
    {
      "cell_type": "markdown",
      "metadata": {},
      "source": [
        "# What is the average IMDb rating of French movies?\n"
      ]
    },
    {
      "cell_type": "code",
      "execution_count": 40,
      "metadata": {},
      "outputs": [],
      "source": [
        "# movie[movie['Country'].str.contains(\"France\")]['IMDb'].mean()\n",
        "# movie[movie['Language']=='French']['IMDb'].mean()"
      ]
    },
    {
      "cell_type": "markdown",
      "metadata": {},
      "source": [
        "# How many movies are from the United States?"
      ]
    },
    {
      "cell_type": "code",
      "execution_count": 41,
      "metadata": {},
      "outputs": [
        {
          "data": {
            "text/plain": [
              "10486"
            ]
          },
          "execution_count": 41,
          "metadata": {},
          "output_type": "execute_result"
        }
      ],
      "source": [
        " movie[movie['Country'].str.contains(\"United States\")].shape[0]"
      ]
    },
    {
      "cell_type": "markdown",
      "metadata": {},
      "source": [
        "# Which country has produced the most Drama movies?\n",
        "\n"
      ]
    },
    {
      "cell_type": "code",
      "execution_count": 42,
      "metadata": {},
      "outputs": [
        {
          "data": {
            "text/plain": [
              "20        United States\n",
              "49        United States\n",
              "52        United States\n",
              "55        United States\n",
              "76               Mexico\n",
              "              ...      \n",
              "16172     United States\n",
              "16175     United States\n",
              "16191     United States\n",
              "16693    United Kingdom\n",
              "16708     United States\n",
              "Name: Country, Length: 1341, dtype: object"
            ]
          },
          "execution_count": 42,
          "metadata": {},
          "output_type": "execute_result"
        }
      ],
      "source": [
        "# movie[movie['Genres'].str.contains(\"Drama\")]['Country'].value_counts().idxmax()\n",
        "movie[movie['Genres']=='Drama']['Country']"
      ]
    },
    {
      "cell_type": "markdown",
      "metadata": {},
      "source": [
        "# What is the most common language for movies on Hulu?\n"
      ]
    },
    {
      "cell_type": "code",
      "execution_count": 43,
      "metadata": {},
      "outputs": [
        {
          "data": {
            "text/plain": [
              "0    English\n",
              "Name: Language, dtype: object"
            ]
          },
          "execution_count": 43,
          "metadata": {},
          "output_type": "execute_result"
        }
      ],
      "source": [
        "co=movie['Hulu']==1\n",
        "movie.loc[co,'Language'].mode(0)"
      ]
    },
    {
      "cell_type": "markdown",
      "metadata": {},
      "source": [
        "# What is the highest IMDb rating in the dataset, and which movie has it?\n"
      ]
    },
    {
      "cell_type": "code",
      "execution_count": 44,
      "metadata": {},
      "outputs": [
        {
          "data": {
            "text/plain": [
              "Title    My Next Guest with David Letterman and Shah Ru...\n",
              "IMDb                                                   9.3\n",
              "Name: 1292, dtype: object"
            ]
          },
          "execution_count": 44,
          "metadata": {},
          "output_type": "execute_result"
        }
      ],
      "source": [
        "movie.loc[movie['IMDb'].idxmax(), ['Title', 'IMDb']]"
      ]
    },
    {
      "cell_type": "markdown",
      "metadata": {},
      "source": [
        "# What is the lowest Rotten Tomatoes score, and which movie has it?\n"
      ]
    },
    {
      "cell_type": "code",
      "execution_count": 45,
      "metadata": {},
      "outputs": [
        {
          "data": {
            "text/plain": [
              "Title              Getaway\n",
              "Rotten Tomatoes        0.2\n",
              "Name: 4208, dtype: object"
            ]
          },
          "execution_count": 45,
          "metadata": {},
          "output_type": "execute_result"
        }
      ],
      "source": [
        "movie.loc[movie['Rotten Tomatoes'].idxmin(), ['Title', 'Rotten Tomatoes']]\n"
      ]
    },
    {
      "cell_type": "code",
      "execution_count": 46,
      "metadata": {},
      "outputs": [
        {
          "data": {
            "text/plain": [
              "Title              3 Idiots\n",
              "Rotten Tomatoes        10.0\n",
              "Name: 11, dtype: object"
            ]
          },
          "execution_count": 46,
          "metadata": {},
          "output_type": "execute_result"
        }
      ],
      "source": [
        "movie.loc[movie['Rotten Tomatoes'].idxmax(), ['Title', 'Rotten Tomatoes']]"
      ]
    },
    {
      "cell_type": "markdown",
      "metadata": {},
      "source": [
        "# What is the correlation between IMDb ratings and Rotten Tomatoes scores?\n"
      ]
    },
    {
      "cell_type": "code",
      "execution_count": 47,
      "metadata": {},
      "outputs": [
        {
          "data": {
            "text/plain": [
              "np.float64(0.26192226561527093)"
            ]
          },
          "execution_count": 47,
          "metadata": {},
          "output_type": "execute_result"
        }
      ],
      "source": [
        "movie[['IMDb', 'Rotten Tomatoes']].corr().iloc[0,1]"
      ]
    },
    {
      "cell_type": "markdown",
      "metadata": {},
      "source": [
        "# How many movies have both IMDb rating above 8.0 and Rotten Tomatoes score above 90%?\n"
      ]
    },
    {
      "cell_type": "code",
      "execution_count": 48,
      "metadata": {},
      "outputs": [
        {
          "data": {
            "text/plain": [
              "0"
            ]
          },
          "execution_count": 48,
          "metadata": {},
          "output_type": "execute_result"
        }
      ],
      "source": [
        "movie[(movie['IMDb'] > 8.0) & (movie['Rotten Tomatoes'] > 90)].shape[0]"
      ]
    },
    {
      "cell_type": "markdown",
      "metadata": {},
      "source": [
        "# Which platform has the highest average Rotten Tomatoes score?"
      ]
    },
    {
      "cell_type": "code",
      "execution_count": 49,
      "metadata": {},
      "outputs": [
        {
          "data": {
            "text/plain": [
              "Netflix        1\n",
              "Hulu           0\n",
              "Prime Video    0\n",
              "Disney+        0\n",
              "Name: 10, dtype: object"
            ]
          },
          "execution_count": 49,
          "metadata": {},
          "output_type": "execute_result"
        }
      ],
      "source": [
        "# Platforms_df.groupby('Platform')['Rotten Tomatoes'].mean().idxmax()\n",
        "\n",
        "cond=movie['Rotten Tomatoes'].max()\n",
        "movie.loc[cond,['Netflix','Hulu','Prime Video','Disney+']]"
      ]
    },
    {
      "cell_type": "markdown",
      "metadata": {},
      "source": [
        "# What is the average runtime of all movies?\n"
      ]
    },
    {
      "cell_type": "code",
      "execution_count": 50,
      "metadata": {},
      "outputs": [
        {
          "data": {
            "text/plain": [
              "np.float64(93.4134472511144)"
            ]
          },
          "execution_count": 50,
          "metadata": {},
          "output_type": "execute_result"
        }
      ],
      "source": [
        "run=movie['Runtime'].mean()\n",
        "run"
      ]
    },
    {
      "cell_type": "markdown",
      "metadata": {},
      "source": [
        "# Which movie has the longest runtime?\n"
      ]
    },
    {
      "cell_type": "code",
      "execution_count": 51,
      "metadata": {},
      "outputs": [
        {
          "data": {
            "text/plain": [
              "np.float64(1256.0)"
            ]
          },
          "execution_count": 51,
          "metadata": {},
          "output_type": "execute_result"
        }
      ],
      "source": [
        "movie['Runtime'].max() "
      ]
    },
    {
      "cell_type": "code",
      "execution_count": 52,
      "metadata": {},
      "outputs": [
        {
          "data": {
            "text/html": [
              "<div>\n",
              "<style scoped>\n",
              "    .dataframe tbody tr th:only-of-type {\n",
              "        vertical-align: middle;\n",
              "    }\n",
              "\n",
              "    .dataframe tbody tr th {\n",
              "        vertical-align: top;\n",
              "    }\n",
              "\n",
              "    .dataframe thead th {\n",
              "        text-align: right;\n",
              "    }\n",
              "</style>\n",
              "<table border=\"1\" class=\"dataframe\">\n",
              "  <thead>\n",
              "    <tr style=\"text-align: right;\">\n",
              "      <th></th>\n",
              "      <th>ID</th>\n",
              "      <th>Title</th>\n",
              "      <th>Year</th>\n",
              "      <th>Age</th>\n",
              "      <th>IMDb</th>\n",
              "      <th>Rotten Tomatoes</th>\n",
              "      <th>Netflix</th>\n",
              "      <th>Hulu</th>\n",
              "      <th>Prime Video</th>\n",
              "      <th>Disney+</th>\n",
              "      <th>Type</th>\n",
              "      <th>Directors</th>\n",
              "      <th>Genres</th>\n",
              "      <th>Country</th>\n",
              "      <th>Language</th>\n",
              "      <th>Runtime</th>\n",
              "      <th>Runtime Category</th>\n",
              "    </tr>\n",
              "  </thead>\n",
              "  <tbody>\n",
              "    <tr>\n",
              "      <th>13179</th>\n",
              "      <td>13180</td>\n",
              "      <td>Colorado</td>\n",
              "      <td>1940</td>\n",
              "      <td>all</td>\n",
              "      <td>5.9</td>\n",
              "      <td>6.5</td>\n",
              "      <td>0</td>\n",
              "      <td>0</td>\n",
              "      <td>1</td>\n",
              "      <td>0</td>\n",
              "      <td>0</td>\n",
              "      <td>unknown</td>\n",
              "      <td>Action,Adventure,Drama,Romance,Western</td>\n",
              "      <td>United States</td>\n",
              "      <td>English</td>\n",
              "      <td>1256.0</td>\n",
              "      <td>NaN</td>\n",
              "    </tr>\n",
              "  </tbody>\n",
              "</table>\n",
              "</div>"
            ],
            "text/plain": [
              "          ID     Title  Year  Age  IMDb  Rotten Tomatoes  Netflix  Hulu  \\\n",
              "13179  13180  Colorado  1940  all   5.9              6.5        0     0   \n",
              "\n",
              "       Prime Video  Disney+  Type Directors  \\\n",
              "13179            1        0     0   unknown   \n",
              "\n",
              "                                       Genres        Country Language  \\\n",
              "13179  Action,Adventure,Drama,Romance,Western  United States  English   \n",
              "\n",
              "       Runtime Runtime Category  \n",
              "13179   1256.0              NaN  "
            ]
          },
          "execution_count": 52,
          "metadata": {},
          "output_type": "execute_result"
        }
      ],
      "source": [
        "movie.loc[(movie['Runtime']==1256.0),::]"
      ]
    },
    {
      "cell_type": "markdown",
      "metadata": {},
      "source": [
        "# Which genre tends to have the longest runtime on average?\n",
        "\n"
      ]
    },
    {
      "cell_type": "code",
      "execution_count": 53,
      "metadata": {},
      "outputs": [
        {
          "data": {
            "text/plain": [
              "Genres    Drama,Romance\n",
              "Name: 1256, dtype: object"
            ]
          },
          "execution_count": 53,
          "metadata": {},
          "output_type": "execute_result"
        }
      ],
      "source": [
        "cond=max(movie['Runtime'])\n",
        "movie.loc[cond,['Genres']]"
      ]
    },
    {
      "cell_type": "markdown",
      "metadata": {},
      "source": [
        "# How many movies have a runtime of less than 60 minutes?"
      ]
    },
    {
      "cell_type": "code",
      "execution_count": 54,
      "metadata": {},
      "outputs": [
        {
          "data": {
            "text/plain": [
              "ID                  1219\n",
              "Title               1219\n",
              "Year                1219\n",
              "Age                 1219\n",
              "IMDb                1219\n",
              "Rotten Tomatoes     1219\n",
              "Netflix             1219\n",
              "Hulu                1219\n",
              "Prime Video         1219\n",
              "Disney+             1219\n",
              "Type                1219\n",
              "Directors           1219\n",
              "Genres              1219\n",
              "Country             1219\n",
              "Language            1219\n",
              "Runtime             1219\n",
              "Runtime Category    1219\n",
              "dtype: int64"
            ]
          },
          "execution_count": 54,
          "metadata": {},
          "output_type": "execute_result"
        }
      ],
      "source": [
        "movie[movie['Runtime']<60.0].count()\n"
      ]
    },
    {
      "cell_type": "markdown",
      "metadata": {},
      "source": [
        "# What is the average IMDb rating for movies with a runtime above 150 minutes?"
      ]
    },
    {
      "cell_type": "code",
      "execution_count": 55,
      "metadata": {},
      "outputs": [
        {
          "data": {
            "text/plain": [
              "IMDb    6.603089\n",
              "dtype: float64"
            ]
          },
          "execution_count": 55,
          "metadata": {},
          "output_type": "execute_result"
        }
      ],
      "source": [
        "run_cond= movie[movie['Runtime'] >=150.0]\n",
        "run_cond.agg({'IMDb':'mean'})"
      ]
    },
    {
      "cell_type": "markdown",
      "metadata": {},
      "source": [
        "\n",
        "\n",
        "\n",
        "\n",
        "# 6. get the avg IMDb rating in each platform\n",
        "# 7. avg rotten tatmotes in each platform\n",
        "# 8. find the outliers in IMDb rating \n",
        "# 9. find oyt;liers in run time \n",
        "# 10. avg run time in ecah platform\n",
        "# 11. "
      ]
    },
    {
      "cell_type": "markdown",
      "metadata": {},
      "source": [
        "# 1. no of movies relesed in each year"
      ]
    },
    {
      "cell_type": "code",
      "execution_count": 56,
      "metadata": {},
      "outputs": [
        {
          "data": {
            "text/plain": [
              "<Axes: title={'center': 'Cuont of movies relesed in each year'}, xlabel='Year', ylabel='Density'>"
            ]
          },
          "execution_count": 56,
          "metadata": {},
          "output_type": "execute_result"
        },
        {
          "data": {
            "image/png": "[encoded data removed]",
            "text/plain": [
              "<Figure size 400x200 with 1 Axes>"
            ]
          },
          "metadata": {},
          "output_type": "display_data"
        }
      ],
      "source": [
        "plt.figure(figsize=(4,2))\n",
        "plt.title('Cuont of movies relesed in each year')\n",
        "sns.kdeplot(data=movie,x='Year',fill=True)\n",
        "# checking by pandas\n",
        "# var= movie.groupby('Year')\n",
        "# var.agg({'Title':'count'})"
      ]
    },
    {
      "cell_type": "markdown",
      "metadata": {},
      "source": [
        "# 2.no of movies available in each platform"
      ]
    },
    {
      "cell_type": "code",
      "execution_count": null,
      "metadata": {},
      "outputs": [
        {
          "data": {
            "image/png": "[encoded data removed]",
            "text/plain": [
              "<Figure size 400x200 with 1 Axes>"
            ]
          },
          "metadata": {},
          "output_type": "display_data"
        }
      ],
      "source": [
        "count_plt= movie[['Netflix','Hulu','Disney+','Prime Video']].sum()\n",
        "count_plt_df = count_plt.reset_index()\n",
        "count_plt_df.columns = ['Service', 'Count']\n",
        "\n",
        "plt.figure(figsize=(4, 2))\n",
        "a=sns.barplot(x='Service', y='Count', data=count_plt_df)\n",
        "a.bar_label(a.containers[0])\n",
        "plt.title(\"movies Count on Streaming Platforms\")\n",
        "plt.xlabel(\"Streaming Service\")\n",
        "plt.ylabel(\"Count\")\n",
        "plt.show()"
      ]
    },
    {
      "cell_type": "markdown",
      "metadata": {},
      "source": [
        "# 3. no of movies directed by top 10 directors"
      ]
    },
    {
      "cell_type": "code",
      "execution_count": 58,
      "metadata": {},
      "outputs": [
        {
          "name": "stderr",
          "output_type": "stream",
          "text": [
            "C:\\Users\\ashwi\\AppData\\Local\\Temp\\ipykernel_9204\\134741646.py:7: FutureWarning: \n",
            "\n",
            "Passing `palette` without assigning `hue` is deprecated and will be removed in v0.14.0. Assign the `x` variable to `hue` and set `legend=False` for the same effect.\n",
            "\n",
            "  b=sns.barplot(x='Directors', y='Number of Movies', data=top_10_df, palette='cool')\n"
          ]
        },
        {
          "data": {
            "image/png": "[encoded data removed]",
            "text/plain": [
              "<Figure size 1000x300 with 1 Axes>"
            ]
          },
          "metadata": {},
          "output_type": "display_data"
        }
      ],
      "source": [
        "director_count = movie['Directors'].value_counts()\n",
        "top_10_directors = director_count.head(10)\n",
        "# filter them \n",
        "top_10_df = top_10_directors.reset_index()\n",
        "top_10_df.columns = ['Directors', 'Number of Movies']\n",
        "plt.figure(figsize=(10,3))\n",
        "b=sns.barplot(x='Directors', y='Number of Movies', data=top_10_df, palette='cool')\n",
        "b.bar_label(b.containers[0])\n",
        "plt.title(\"Top 10 Directors by Number of Movies Directed\", fontsize=16)\n",
        "plt.show()"
      ]
    },
    {
      "cell_type": "markdown",
      "metadata": {},
      "source": [
        "# 4. check the pattren of IMDb rating over the recent decade  and over the year"
      ]
    },
    {
      "cell_type": "code",
      "execution_count": 59,
      "metadata": {},
      "outputs": [
        {
          "data": {
            "text/plain": [
              "<Axes: title={'center': 'Average IMDb Ratings Over the recent decades'}, xlabel='Year', ylabel='IMDb'>"
            ]
          },
          "execution_count": 59,
          "metadata": {},
          "output_type": "execute_result"
        },
        {
          "data": {
            "image/png": "[encoded data removed]",
            "text/plain": [
              "<Figure size 400x200 with 1 Axes>"
            ]
          },
          "metadata": {},
          "output_type": "display_data"
        }
      ],
      "source": [
        "# IMDb rating over recent decade\n",
        "c=movie[(movie['Year']>2009 ) & (movie['Year']<2021)]\n",
        "avg_ratings_per_year = c.groupby('Year')['IMDb'].mean().reset_index()\n",
        "plt.figure(figsize=(4,2))\n",
        "plt.title('Average IMDb Ratings Over the recent decades')\n",
        "sns.lineplot(data=avg_ratings_per_year, x='Year', y='IMDb')\n"
      ]
    },
    {
      "cell_type": "markdown",
      "metadata": {},
      "source": [
        "the IMDb rating are static untill the 2017 and thereafter ussaly increases  and is at a position of bulled untill the date "
      ]
    },
    {
      "cell_type": "code",
      "execution_count": 60,
      "metadata": {},
      "outputs": [
        {
          "data": {
            "text/plain": [
              "[Text(0, 0, '147')]"
            ]
          },
          "execution_count": 60,
          "metadata": {},
          "output_type": "execute_result"
        },
        {
          "data": {
            "image/png": "[encoded data removed]",
            "text/plain": [
              "<Figure size 400x300 with 1 Axes>"
            ]
          },
          "metadata": {},
          "output_type": "display_data"
        }
      ],
      "source": [
        "c=movie[movie['Year']==2020]\n",
        "plt.figure(figsize=(4,3))\n",
        "plt.title('the count of movies in current year')\n",
        "d=sns.countplot(data=c,x='Year',width=0.2)\n",
        "d.bar_label(d.containers[0])"
      ]
    },
    {
      "cell_type": "markdown",
      "metadata": {},
      "source": [
        " the current year 2020 has the count of 147 movies"
      ]
    },
    {
      "cell_type": "markdown",
      "metadata": {},
      "source": [
        "\n",
        "# 5. Number of genres available in each platform (unique of genres and count them )"
      ]
    },
    {
      "cell_type": "code",
      "execution_count": 85,
      "metadata": {},
      "outputs": [
        {
          "name": "stderr",
          "output_type": "stream",
          "text": [
            "C:\\Users\\ashwi\\AppData\\Local\\Temp\\ipykernel_9204\\2469823645.py:15: FutureWarning: \n",
            "\n",
            "Passing `palette` without assigning `hue` is deprecated and will be removed in v0.14.0. Assign the `x` variable to `hue` and set `legend=False` for the same effect.\n",
            "\n",
            "  e=sns.barplot(x='Platform', y='Unique Genres Count', data=unique_genres_df, palette='viridis')\n"
          ]
        },
        {
          "data": {
            "text/plain": [
              "Text(0.5, 1.0, 'Number of Unique Genres Available on Each Streaming Platform')"
            ]
          },
          "execution_count": 85,
          "metadata": {},
          "output_type": "execute_result"
        },
        {
          "data": {
            "image/png": "[encoded data removed]",
            "text/plain": [
              "<Figure size 1000x400 with 1 Axes>"
            ]
          },
          "metadata": {},
          "output_type": "display_data"
        }
      ],
      "source": [
        "# Create a new DataFrame to store the unique genres for each platform\n",
        "unique_genres_per_platform = []\n",
        "# itterate through each platforms \n",
        "for platform in ['Netflix', 'Hulu', 'Disney+', 'Prime Video']:\n",
        "   \n",
        "    platform_movies = movie[movie[platform] == 1]  # Assuming '1' indicates availability\n",
        "  \n",
        "    unique_genres_count = platform_movies['Genres'].nunique()\n",
        "   # append the vales to dataframe \n",
        "    unique_genres_per_platform.append((platform, unique_genres_count))\n",
        "\n",
        "unique_genres_df = pd.DataFrame(unique_genres_per_platform, columns=['Platform', 'Unique Genres Count'])\n",
        "\n",
        "plt.figure(figsize=(10,4)) \n",
        "e=sns.barplot(x='Platform', y='Unique Genres Count', data=unique_genres_df, palette='viridis')\n",
        "e.bar_label(e.containers[0])\n",
        "plt.title('Number of Unique Genres Available on Each Streaming Platform', fontsize=14)"
      ]
    },
    {
      "cell_type": "code",
      "execution_count": null,
      "metadata": {},
      "outputs": [
        {
          "data": {
            "text/html": [
              "<div>\n",
              "<style scoped>\n",
              "    .dataframe tbody tr th:only-of-type {\n",
              "        vertical-align: middle;\n",
              "    }\n",
              "\n",
              "    .dataframe tbody tr th {\n",
              "        vertical-align: top;\n",
              "    }\n",
              "\n",
              "    .dataframe thead th {\n",
              "        text-align: right;\n",
              "    }\n",
              "</style>\n",
              "<table border=\"1\" class=\"dataframe\">\n",
              "  <thead>\n",
              "    <tr style=\"text-align: right;\">\n",
              "      <th></th>\n",
              "      <th>ID</th>\n",
              "      <th>Title</th>\n",
              "      <th>Year</th>\n",
              "      <th>Age</th>\n",
              "      <th>IMDb</th>\n",
              "      <th>Rotten Tomatoes</th>\n",
              "      <th>Netflix</th>\n",
              "      <th>Hulu</th>\n",
              "      <th>Prime Video</th>\n",
              "      <th>Disney+</th>\n",
              "      <th>Type</th>\n",
              "      <th>Directors</th>\n",
              "      <th>Genres</th>\n",
              "      <th>Country</th>\n",
              "      <th>Language</th>\n",
              "      <th>Runtime</th>\n",
              "      <th>Runtime Category</th>\n",
              "    </tr>\n",
              "  </thead>\n",
              "  <tbody>\n",
              "    <tr>\n",
              "      <th>0</th>\n",
              "      <td>1</td>\n",
              "      <td>Inception</td>\n",
              "      <td>2010</td>\n",
              "      <td>13+</td>\n",
              "      <td>8.8</td>\n",
              "      <td>8.7</td>\n",
              "      <td>1</td>\n",
              "      <td>0</td>\n",
              "      <td>0</td>\n",
              "      <td>0</td>\n",
              "      <td>0</td>\n",
              "      <td>Christopher Nolan</td>\n",
              "      <td>Action,Adventure,Sci-Fi,Thriller</td>\n",
              "      <td>United States,United Kingdom</td>\n",
              "      <td>English,Japanese,French</td>\n",
              "      <td>148.000000</td>\n",
              "      <td>Long (120-180 min)</td>\n",
              "    </tr>\n",
              "    <tr>\n",
              "      <th>1</th>\n",
              "      <td>2</td>\n",
              "      <td>The Matrix</td>\n",
              "      <td>1999</td>\n",
              "      <td>18+</td>\n",
              "      <td>8.7</td>\n",
              "      <td>8.7</td>\n",
              "      <td>1</td>\n",
              "      <td>0</td>\n",
              "      <td>0</td>\n",
              "      <td>0</td>\n",
              "      <td>0</td>\n",
              "      <td>Lana Wachowski,Lilly Wachowski</td>\n",
              "      <td>Action,Sci-Fi</td>\n",
              "      <td>United States</td>\n",
              "      <td>English</td>\n",
              "      <td>136.000000</td>\n",
              "      <td>Long (120-180 min)</td>\n",
              "    </tr>\n",
              "    <tr>\n",
              "      <th>2</th>\n",
              "      <td>3</td>\n",
              "      <td>Avengers: Infinity War</td>\n",
              "      <td>2018</td>\n",
              "      <td>13+</td>\n",
              "      <td>8.5</td>\n",
              "      <td>8.4</td>\n",
              "      <td>1</td>\n",
              "      <td>0</td>\n",
              "      <td>0</td>\n",
              "      <td>0</td>\n",
              "      <td>0</td>\n",
              "      <td>Anthony Russo,Joe Russo</td>\n",
              "      <td>Action,Adventure,Sci-Fi</td>\n",
              "      <td>United States</td>\n",
              "      <td>English</td>\n",
              "      <td>149.000000</td>\n",
              "      <td>Long (120-180 min)</td>\n",
              "    </tr>\n",
              "    <tr>\n",
              "      <th>3</th>\n",
              "      <td>4</td>\n",
              "      <td>Back to the Future</td>\n",
              "      <td>1985</td>\n",
              "      <td>7+</td>\n",
              "      <td>8.5</td>\n",
              "      <td>9.6</td>\n",
              "      <td>1</td>\n",
              "      <td>0</td>\n",
              "      <td>0</td>\n",
              "      <td>0</td>\n",
              "      <td>0</td>\n",
              "      <td>Robert Zemeckis</td>\n",
              "      <td>Adventure,Comedy,Sci-Fi</td>\n",
              "      <td>United States</td>\n",
              "      <td>English</td>\n",
              "      <td>116.000000</td>\n",
              "      <td>Medium (60-120 min)</td>\n",
              "    </tr>\n",
              "    <tr>\n",
              "      <th>4</th>\n",
              "      <td>5</td>\n",
              "      <td>The Good, the Bad and the Ugly</td>\n",
              "      <td>1966</td>\n",
              "      <td>18+</td>\n",
              "      <td>8.8</td>\n",
              "      <td>9.7</td>\n",
              "      <td>1</td>\n",
              "      <td>0</td>\n",
              "      <td>1</td>\n",
              "      <td>0</td>\n",
              "      <td>0</td>\n",
              "      <td>Sergio Leone</td>\n",
              "      <td>Western</td>\n",
              "      <td>Italy,Spain,West Germany</td>\n",
              "      <td>Italian</td>\n",
              "      <td>161.000000</td>\n",
              "      <td>Long (120-180 min)</td>\n",
              "    </tr>\n",
              "    <tr>\n",
              "      <th>...</th>\n",
              "      <td>...</td>\n",
              "      <td>...</td>\n",
              "      <td>...</td>\n",
              "      <td>...</td>\n",
              "      <td>...</td>\n",
              "      <td>...</td>\n",
              "      <td>...</td>\n",
              "      <td>...</td>\n",
              "      <td>...</td>\n",
              "      <td>...</td>\n",
              "      <td>...</td>\n",
              "      <td>...</td>\n",
              "      <td>...</td>\n",
              "      <td>...</td>\n",
              "      <td>...</td>\n",
              "      <td>...</td>\n",
              "      <td>...</td>\n",
              "    </tr>\n",
              "    <tr>\n",
              "      <th>16739</th>\n",
              "      <td>16740</td>\n",
              "      <td>The Ghosts of Buxley Hall</td>\n",
              "      <td>1980</td>\n",
              "      <td>18+</td>\n",
              "      <td>6.2</td>\n",
              "      <td>6.5</td>\n",
              "      <td>0</td>\n",
              "      <td>0</td>\n",
              "      <td>0</td>\n",
              "      <td>1</td>\n",
              "      <td>0</td>\n",
              "      <td>Bruce Bilson</td>\n",
              "      <td>Comedy,Family,Fantasy,Horror</td>\n",
              "      <td>United States</td>\n",
              "      <td>English</td>\n",
              "      <td>120.000000</td>\n",
              "      <td>Long (120-180 min)</td>\n",
              "    </tr>\n",
              "    <tr>\n",
              "      <th>16740</th>\n",
              "      <td>16741</td>\n",
              "      <td>The Poof Point</td>\n",
              "      <td>2001</td>\n",
              "      <td>7+</td>\n",
              "      <td>4.7</td>\n",
              "      <td>6.5</td>\n",
              "      <td>0</td>\n",
              "      <td>0</td>\n",
              "      <td>0</td>\n",
              "      <td>1</td>\n",
              "      <td>0</td>\n",
              "      <td>Neal Israel</td>\n",
              "      <td>Comedy,Family,Sci-Fi</td>\n",
              "      <td>United States</td>\n",
              "      <td>English</td>\n",
              "      <td>90.000000</td>\n",
              "      <td>Medium (60-120 min)</td>\n",
              "    </tr>\n",
              "    <tr>\n",
              "      <th>16741</th>\n",
              "      <td>16742</td>\n",
              "      <td>Sharks of Lost Island</td>\n",
              "      <td>2013</td>\n",
              "      <td>18+</td>\n",
              "      <td>5.7</td>\n",
              "      <td>6.5</td>\n",
              "      <td>0</td>\n",
              "      <td>0</td>\n",
              "      <td>0</td>\n",
              "      <td>1</td>\n",
              "      <td>0</td>\n",
              "      <td>Neil Gelinas</td>\n",
              "      <td>Documentary</td>\n",
              "      <td>United States</td>\n",
              "      <td>English</td>\n",
              "      <td>93.413447</td>\n",
              "      <td>Medium (60-120 min)</td>\n",
              "    </tr>\n",
              "    <tr>\n",
              "      <th>16742</th>\n",
              "      <td>16743</td>\n",
              "      <td>Man Among Cheetahs</td>\n",
              "      <td>2017</td>\n",
              "      <td>18+</td>\n",
              "      <td>6.6</td>\n",
              "      <td>6.5</td>\n",
              "      <td>0</td>\n",
              "      <td>0</td>\n",
              "      <td>0</td>\n",
              "      <td>1</td>\n",
              "      <td>0</td>\n",
              "      <td>Richard Slater-Jones</td>\n",
              "      <td>Documentary</td>\n",
              "      <td>United States</td>\n",
              "      <td>English</td>\n",
              "      <td>93.413447</td>\n",
              "      <td>Medium (60-120 min)</td>\n",
              "    </tr>\n",
              "    <tr>\n",
              "      <th>16743</th>\n",
              "      <td>16744</td>\n",
              "      <td>In Beaver Valley</td>\n",
              "      <td>1950</td>\n",
              "      <td>18+</td>\n",
              "      <td>5.9</td>\n",
              "      <td>6.5</td>\n",
              "      <td>0</td>\n",
              "      <td>0</td>\n",
              "      <td>0</td>\n",
              "      <td>1</td>\n",
              "      <td>0</td>\n",
              "      <td>James Algar</td>\n",
              "      <td>Documentary,Short,Family</td>\n",
              "      <td>United States</td>\n",
              "      <td>English</td>\n",
              "      <td>32.000000</td>\n",
              "      <td>Short (&lt;60 min)</td>\n",
              "    </tr>\n",
              "  </tbody>\n",
              "</table>\n",
              "<p>16744 rows × 17 columns</p>\n",
              "</div>"
            ],
            "text/plain": [
              "          ID                           Title  Year  Age  IMDb  \\\n",
              "0          1                       Inception  2010  13+   8.8   \n",
              "1          2                      The Matrix  1999  18+   8.7   \n",
              "2          3          Avengers: Infinity War  2018  13+   8.5   \n",
              "3          4              Back to the Future  1985   7+   8.5   \n",
              "4          5  The Good, the Bad and the Ugly  1966  18+   8.8   \n",
              "...      ...                             ...   ...  ...   ...   \n",
              "16739  16740       The Ghosts of Buxley Hall  1980  18+   6.2   \n",
              "16740  16741                  The Poof Point  2001   7+   4.7   \n",
              "16741  16742           Sharks of Lost Island  2013  18+   5.7   \n",
              "16742  16743              Man Among Cheetahs  2017  18+   6.6   \n",
              "16743  16744                In Beaver Valley  1950  18+   5.9   \n",
              "\n",
              "       Rotten Tomatoes  Netflix  Hulu  Prime Video  Disney+  Type  \\\n",
              "0                  8.7        1     0            0        0     0   \n",
              "1                  8.7        1     0            0        0     0   \n",
              "2                  8.4        1     0            0        0     0   \n",
              "3                  9.6        1     0            0        0     0   \n",
              "4                  9.7        1     0            1        0     0   \n",
              "...                ...      ...   ...          ...      ...   ...   \n",
              "16739              6.5        0     0            0        1     0   \n",
              "16740              6.5        0     0            0        1     0   \n",
              "16741              6.5        0     0            0        1     0   \n",
              "16742              6.5        0     0            0        1     0   \n",
              "16743              6.5        0     0            0        1     0   \n",
              "\n",
              "                            Directors                            Genres  \\\n",
              "0                   Christopher Nolan  Action,Adventure,Sci-Fi,Thriller   \n",
              "1      Lana Wachowski,Lilly Wachowski                     Action,Sci-Fi   \n",
              "2             Anthony Russo,Joe Russo           Action,Adventure,Sci-Fi   \n",
              "3                     Robert Zemeckis           Adventure,Comedy,Sci-Fi   \n",
              "4                        Sergio Leone                           Western   \n",
              "...                               ...                               ...   \n",
              "16739                    Bruce Bilson      Comedy,Family,Fantasy,Horror   \n",
              "16740                     Neal Israel              Comedy,Family,Sci-Fi   \n",
              "16741                    Neil Gelinas                       Documentary   \n",
              "16742            Richard Slater-Jones                       Documentary   \n",
              "16743                     James Algar          Documentary,Short,Family   \n",
              "\n",
              "                            Country                 Language     Runtime  \\\n",
              "0      United States,United Kingdom  English,Japanese,French  148.000000   \n",
              "1                     United States                  English  136.000000   \n",
              "2                     United States                  English  149.000000   \n",
              "3                     United States                  English  116.000000   \n",
              "4          Italy,Spain,West Germany                  Italian  161.000000   \n",
              "...                             ...                      ...         ...   \n",
              "16739                 United States                  English  120.000000   \n",
              "16740                 United States                  English   90.000000   \n",
              "16741                 United States                  English   93.413447   \n",
              "16742                 United States                  English   93.413447   \n",
              "16743                 United States                  English   32.000000   \n",
              "\n",
              "          Runtime Category  \n",
              "0       Long (120-180 min)  \n",
              "1       Long (120-180 min)  \n",
              "2       Long (120-180 min)  \n",
              "3      Medium (60-120 min)  \n",
              "4       Long (120-180 min)  \n",
              "...                    ...  \n",
              "16739   Long (120-180 min)  \n",
              "16740  Medium (60-120 min)  \n",
              "16741  Medium (60-120 min)  \n",
              "16742  Medium (60-120 min)  \n",
              "16743      Short (<60 min)  \n",
              "\n",
              "[16744 rows x 17 columns]"
            ]
          },
          "execution_count": 81,
          "metadata": {},
          "output_type": "execute_result"
        }
      ],
      "source": [
        "movie"
      ]
    },
    {
      "cell_type": "markdown",
      "metadata": {},
      "source": [
        "# 11. average Runtime on each platform"
      ]
    },
    {
      "cell_type": "code",
      "execution_count": 74,
      "metadata": {},
      "outputs": [
        {
          "data": {
            "text/plain": [
              "Text(0.5, 1.0, 'Average Runtime per platform')"
            ]
          },
          "execution_count": 74,
          "metadata": {},
          "output_type": "execute_result"
        },
        {
          "data": {
            "image/png": "[encoded data removed]",
            "text/plain": [
              "<Figure size 1000x300 with 1 Axes>"
            ]
          },
          "metadata": {},
          "output_type": "display_data"
        }
      ],
      "source": [
        "plt.figure(figsize=(10,3))\n",
        "f=sns.barplot(data=Platforms_df,x='Platform',y='Runtime')\n",
        "f.bar_label(f.containers[0])\n",
        "plt.title('Average Runtime per platform')"
      ]
    },
    {
      "cell_type": "code",
      "execution_count": null,
      "metadata": {},
      "outputs": [
        {
          "data": {
            "text/plain": [
              "Text(0.5, 1.0, 'Average Runtime per platform')"
            ]
          },
          "execution_count": 75,
          "metadata": {},
          "output_type": "execute_result"
        },
        {
          "data": {
            "image/png": "[encoded data removed]",
            "text/plain": [
              "<Figure size 1000x300 with 1 Axes>"
            ]
          },
          "metadata": {},
          "output_type": "display_data"
        }
      ],
      "source": [
        "plt.figure(figsize=(10,3))\n",
        "f=sns.barplot(data=Platforms_df,x='Platform',y='IMDb')\n",
        "f.bar_label(f.containers[0])\n",
        "plt.title('Average IMDb rating per platform')"
      ]
    },
    {
      "cell_type": "markdown",
      "metadata": {},
      "source": [
        "# 12. top 5 IMDb ratings per platform by their TItle , Runtime , Rotten , GENRES"
      ]
    },
    {
      "cell_type": "code",
      "execution_count": 117,
      "metadata": {},
      "outputs": [],
      "source": [
        "movie['tot_plts']=movie[movie.columns[[6,7,8,9]]].sum(axis=1)"
      ]
    },
    {
      "cell_type": "code",
      "execution_count": 118,
      "metadata": {},
      "outputs": [],
      "source": [
        "a=Platforms_df['IMDb'].unique()\n",
        "a.sort()\n",
        "imdb5=a[-6:-1:]\n"
      ]
    },
    {
      "cell_type": "code",
      "execution_count": 121,
      "metadata": {},
      "outputs": [
        {
          "data": {
            "text/plain": [
              "(55, 5)"
            ]
          },
          "execution_count": 121,
          "metadata": {},
          "output_type": "execute_result"
        }
      ],
      "source": [
        "top5_df=movie[movie['IMDb'].isin(imdb5)][['Title','Rotten Tomatoes','Genres', 'Runtime','tot_plts']]\n",
        "top5_df.shape"
      ]
    },
    {
      "cell_type": "code",
      "execution_count": null,
      "metadata": {},
      "outputs": [],
      "source": []
    }
  ],
  "metadata": {
    "colab": {
      "provenance": []
    },
    "kernelspec": {
      "display_name": ".venv",
      "language": "python",
      "name": "python3"
    },
    "language_info": {
      "codemirror_mode": {
        "name": "ipython",
        "version": 3
      },
      "file_extension": ".py",
      "mimetype": "text/x-python",
      "name": "python",
      "nbconvert_exporter": "python",
      "pygments_lexer": "ipython3",
      "version": "3.13.0"
    }
  },
  "nbformat": 4,
  "nbformat_minor": 0
}
